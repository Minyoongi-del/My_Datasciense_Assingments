{
  "nbformat": 4,
  "nbformat_minor": 0,
  "metadata": {
    "colab": {
      "provenance": []
    },
    "kernelspec": {
      "name": "python3",
      "display_name": "Python 3"
    },
    "language_info": {
      "name": "python"
    }
  },
  "cells": [
    {
      "cell_type": "markdown",
      "source": [
        "# Estimation And Confidence Intervals"
      ],
      "metadata": {
        "id": "R-mGHOpmjhL2"
      }
    },
    {
      "cell_type": "code",
      "execution_count": 2,
      "metadata": {
        "id": "vqtiNFbFjX4Q"
      },
      "outputs": [],
      "source": [
        "import numpy as np\n",
        "import scipy.stats as stats\n",
        "\n",
        "# Data\n",
        "durabilities = np.array([1.13, 1.55, 1.43, 0.92, 1.25, 1.36, 1.32, 0.85, 1.07, 1.48, 1.20, 1.33, 1.18, 1.22, 1.29])\n",
        "\n"
      ]
    },
    {
      "cell_type": "markdown",
      "source": [
        "##### a. Build 99% Confidence Interval Using Sample Standard Deviation"
      ],
      "metadata": {
        "id": "DoI1cvbfkXpb"
      }
    },
    {
      "cell_type": "code",
      "source": [
        "# Step 1: Calculate the Sample Mean and Sample Standard Deviation\n",
        "sample_mean = np.mean(durabilities)\n",
        "sample_std_dev = np.std(durabilities, ddof=1)\n",
        "n = len(durabilities)\n",
        "print(f\"Sample Mean: {sample_mean}\")\n",
        "print(f\"Sample Standard Deviation: {sample_std_dev}\")\n",
        "print(f\"Sample Size: {n}\")\n"
      ],
      "metadata": {
        "colab": {
          "base_uri": "https://localhost:8080/"
        },
        "id": "ueWRsJbyj66t",
        "outputId": "e3555500-9ec9-43a7-a118-a8aba3cc3dab"
      },
      "execution_count": 13,
      "outputs": [
        {
          "output_type": "stream",
          "name": "stdout",
          "text": [
            "Sample Mean: 1.2386666666666666\n",
            "Sample Standard Deviation: 0.19316412956959936\n",
            "Sample Size: 15\n"
          ]
        }
      ]
    },
    {
      "cell_type": "code",
      "source": [
        "# Step 2: Use the t-Distribution (since sample std dev is used)\n",
        "df = n - 1\n",
        "print(f\"df: {df}\")\n",
        "t_critical = stats.t.ppf(0.995, df)  # 99% confidence level, two-tailed test\n",
        "print(f\"t-critical value: {t_critical}\")\n",
        "\n"
      ],
      "metadata": {
        "colab": {
          "base_uri": "https://localhost:8080/"
        },
        "id": "VzrUAJ-fj-c1",
        "outputId": "e9baf687-90af-4c58-f570-07ea55720e9b"
      },
      "execution_count": 14,
      "outputs": [
        {
          "output_type": "stream",
          "name": "stdout",
          "text": [
            "df: 14\n",
            "t-critical value: 2.976842734370834\n"
          ]
        }
      ]
    },
    {
      "cell_type": "code",
      "source": [
        "# Step 3: Calculate the Margin of Error (E) for t-distribution\n",
        "margin_of_error_t = t_critical * (sample_std_dev / np.sqrt(n))\n",
        "print(f\"Margin of Error (E): {margin_of_error_t}\")"
      ],
      "metadata": {
        "colab": {
          "base_uri": "https://localhost:8080/"
        },
        "id": "usnJ_2GskDPO",
        "outputId": "94d99cbc-6261-40fd-e5e1-506da20e5333"
      },
      "execution_count": 15,
      "outputs": [
        {
          "output_type": "stream",
          "name": "stdout",
          "text": [
            "Margin of Error (E): 0.14846932822817596\n"
          ]
        }
      ]
    },
    {
      "cell_type": "code",
      "source": [
        "# Step 4: Construct the Confidence Interval for t-distribution\n",
        "ci_lower_t = sample_mean - margin_of_error_t\n",
        "ci_upper_t = sample_mean + margin_of_error_t\n",
        "print(f\"99% Confidence Interval: ({ci_lower_t}, {ci_upper_t})\")\n"
      ],
      "metadata": {
        "colab": {
          "base_uri": "https://localhost:8080/"
        },
        "id": "YxrKKSpykGQc",
        "outputId": "4f4581c7-b81a-4fe2-e75a-faa472caad63"
      },
      "execution_count": 16,
      "outputs": [
        {
          "output_type": "stream",
          "name": "stdout",
          "text": [
            "99% Confidence Interval: (1.0901973384384906, 1.3871359948948425)\n"
          ]
        }
      ]
    },
    {
      "cell_type": "code",
      "source": [],
      "metadata": {
        "id": "TdlCLqVPkJlO"
      },
      "execution_count": 6,
      "outputs": []
    },
    {
      "cell_type": "markdown",
      "source": [
        "##### b. Build 99% Confidence Interval Using Known Population Standard Deviation"
      ],
      "metadata": {
        "id": "bdRwR6-SkJ6_"
      }
    },
    {
      "cell_type": "code",
      "source": [
        "# Step 1: Calculate the Margin of Error (E) for z-distribution (using known population std dev)\n",
        "population_std_dev = 0.2\n",
        "z_critical = stats.norm.ppf(0.995)  # 99% confidence level, two-tailed test\n",
        "print(f\"z-critical value: {z_critical}\")\n"
      ],
      "metadata": {
        "colab": {
          "base_uri": "https://localhost:8080/"
        },
        "id": "Ol2nSU5gkKr9",
        "outputId": "9166d32c-3625-4de0-d019-f29e40f59e46"
      },
      "execution_count": 17,
      "outputs": [
        {
          "output_type": "stream",
          "name": "stdout",
          "text": [
            "z-critical value: 2.5758293035489004\n"
          ]
        }
      ]
    },
    {
      "cell_type": "code",
      "source": [
        "# Step 2: Calculate the Margin of Error (E) for z-distribution\n",
        "margin_of_error_z = z_critical * (population_std_dev / np.sqrt(n))\n",
        "print(f\"Margin of Error (E): {margin_of_error_z}\")\n",
        "\n"
      ],
      "metadata": {
        "colab": {
          "base_uri": "https://localhost:8080/"
        },
        "id": "NTXNSh4-kNu9",
        "outputId": "b11a42db-9260-45c0-e979-1f7d636e3b02"
      },
      "execution_count": 19,
      "outputs": [
        {
          "output_type": "stream",
          "name": "stdout",
          "text": [
            "Margin of Error (E): 0.13301525327090588\n"
          ]
        }
      ]
    },
    {
      "cell_type": "code",
      "source": [
        "# Step 3: Construct the Confidence Interval for z-distribution\n",
        "ci_lower_z = sample_mean - margin_of_error_z\n",
        "ci_upper_z = sample_mean + margin_of_error_z\n",
        "print(f\"99% Confidence Interval: ({ci_lower_z}, {ci_upper_z})\")\n"
      ],
      "metadata": {
        "colab": {
          "base_uri": "https://localhost:8080/"
        },
        "id": "guXxu3hrkTpX",
        "outputId": "462514f9-4360-41cf-efc9-7dd52a6d4489"
      },
      "execution_count": 20,
      "outputs": [
        {
          "output_type": "stream",
          "name": "stdout",
          "text": [
            "99% Confidence Interval: (1.1056514133957607, 1.3716819199375725)\n"
          ]
        }
      ]
    }
  ]
}