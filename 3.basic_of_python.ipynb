{
  "nbformat": 4,
  "nbformat_minor": 0,
  "metadata": {
    "colab": {
      "provenance": [],
      "toc_visible": true
    },
    "kernelspec": {
      "name": "python3",
      "display_name": "Python 3"
    },
    "language_info": {
      "name": "python"
    }
  },
  "cells": [
    {
      "cell_type": "code",
      "execution_count": null,
      "metadata": {
        "id": "j1PLIlJul5yE"
      },
      "outputs": [],
      "source": []
    },
    {
      "cell_type": "markdown",
      "source": [
        "# Prime Numbers"
      ],
      "metadata": {
        "id": "G46JqPucl_ck"
      }
    },
    {
      "cell_type": "code",
      "source": [
        "def is_prime(number):\n",
        "    \"\"\"\n",
        "    Check if a given number is prime.\n",
        "    A prime number is only divisible by 1 and itself.\n",
        "    \"\"\"\n",
        "    if number <= 1:\n",
        "        return False\n",
        "    for i in range(2, int(number ** 0.5) + 1):\n",
        "        if number % i == 0:\n",
        "            return False\n",
        "    return True\n",
        "\n",
        "# Example usage\n",
        "number = int(input(\"Enter a number to check if it's prime: \"))\n",
        "if is_prime(number):\n",
        "    print(f\"{number} is a prime number.\")\n",
        "else:\n",
        "    print(f\"{number} is not a prime number.\")\n"
      ],
      "metadata": {
        "colab": {
          "base_uri": "https://localhost:8080/"
        },
        "id": "QeK-Ly6zmPLs",
        "outputId": "7d68b349-6afa-49f4-8eb0-e426f20bc3a2"
      },
      "execution_count": 1,
      "outputs": [
        {
          "output_type": "stream",
          "name": "stdout",
          "text": [
            "Enter a number to check if it's prime: 5\n",
            "5 is a prime number.\n"
          ]
        }
      ]
    },
    {
      "cell_type": "markdown",
      "source": [
        "# Product of Random Numbers"
      ],
      "metadata": {
        "id": "V_NfLNI2m9ZB"
      }
    },
    {
      "cell_type": "code",
      "source": [
        "import random\n",
        "\n",
        "def check_product():\n",
        "    \"\"\"\n",
        "    Generate two random numbers and ask the user for their product.\n",
        "    Check if the user's answer is correct and display an appropriate message.\n",
        "    \"\"\"\n",
        "    num1 = random.randint(1, 10)\n",
        "    num2 = random.randint(1, 10)\n",
        "    correct_product = num1 * num2\n",
        "\n",
        "    # Prompt the user to input the product of the two numbers\n",
        "    user_input = int(input(f\"What is the product of {num1} and {num2}? \"))\n",
        "\n",
        "    if user_input == correct_product:\n",
        "        print(\"Correct! Well done.\")\n",
        "    else:\n",
        "        print(f\"Incorrect. The correct answer is {correct_product}.\")\n",
        "\n",
        "# Run the program\n",
        "check_product()\n"
      ],
      "metadata": {
        "colab": {
          "base_uri": "https://localhost:8080/"
        },
        "id": "Ro7q7s7Lm_9R",
        "outputId": "9a3c06eb-0902-4815-b79c-217b4bfab8cd"
      },
      "execution_count": 2,
      "outputs": [
        {
          "output_type": "stream",
          "name": "stdout",
          "text": [
            "What is the product of 5 and 6? 30\n",
            "Correct! Well done.\n"
          ]
        }
      ]
    },
    {
      "cell_type": "markdown",
      "source": [
        "# Squares of Even/Odd Numbers"
      ],
      "metadata": {
        "id": "1CLk_N2unVAE"
      }
    },
    {
      "cell_type": "code",
      "source": [
        "def print_even_squares():\n",
        "    \"\"\"\n",
        "    Print the squares of all even numbers within the range of 100 to 200.\n",
        "    \"\"\"\n",
        "    for i in range(100, 201):\n",
        "        if i % 2 == 0:\n",
        "            print(f\"{i} squared is {i ** 2}\")\n",
        "\n",
        "def print_odd_squares():\n",
        "    \"\"\"\n",
        "    Print the squares of all odd numbers within the range of 100 to 200.\n",
        "    \"\"\"\n",
        "    for i in range(100, 201):\n",
        "        if i % 2 != 0:\n",
        "            print(f\"{i} squared is {i ** 2}\")\n",
        "\n",
        "def main():\n",
        "    choice = input(\"Type 'even' to print squares of even numbers, or 'odd' to print squares of odd numbers: \").strip().lower()\n",
        "\n",
        "    # Simulate switch-case using a dictionary\n",
        "    options = {\n",
        "        'even': print_even_squares,\n",
        "        'odd': print_odd_squares\n",
        "    }\n",
        "\n",
        "    # Call the appropriate function based on user input\n",
        "    if choice in options:\n",
        "        options[choice]()\n",
        "    else:\n",
        "        print(\"Invalid choice. Please type 'even' or 'odd'.\")\n",
        "\n",
        "# Run the program\n",
        "main()\n"
      ],
      "metadata": {
        "colab": {
          "base_uri": "https://localhost:8080/"
        },
        "id": "kz2IkO43nWyd",
        "outputId": "2ee338b6-909c-497c-f70f-fc572e82b603"
      },
      "execution_count": 5,
      "outputs": [
        {
          "output_type": "stream",
          "name": "stdout",
          "text": [
            "Type 'even' to print squares of even numbers, or 'odd' to print squares of odd numbers: odd\n",
            "101 squared is 10201\n",
            "103 squared is 10609\n",
            "105 squared is 11025\n",
            "107 squared is 11449\n",
            "109 squared is 11881\n",
            "111 squared is 12321\n",
            "113 squared is 12769\n",
            "115 squared is 13225\n",
            "117 squared is 13689\n",
            "119 squared is 14161\n",
            "121 squared is 14641\n",
            "123 squared is 15129\n",
            "125 squared is 15625\n",
            "127 squared is 16129\n",
            "129 squared is 16641\n",
            "131 squared is 17161\n",
            "133 squared is 17689\n",
            "135 squared is 18225\n",
            "137 squared is 18769\n",
            "139 squared is 19321\n",
            "141 squared is 19881\n",
            "143 squared is 20449\n",
            "145 squared is 21025\n",
            "147 squared is 21609\n",
            "149 squared is 22201\n",
            "151 squared is 22801\n",
            "153 squared is 23409\n",
            "155 squared is 24025\n",
            "157 squared is 24649\n",
            "159 squared is 25281\n",
            "161 squared is 25921\n",
            "163 squared is 26569\n",
            "165 squared is 27225\n",
            "167 squared is 27889\n",
            "169 squared is 28561\n",
            "171 squared is 29241\n",
            "173 squared is 29929\n",
            "175 squared is 30625\n",
            "177 squared is 31329\n",
            "179 squared is 32041\n",
            "181 squared is 32761\n",
            "183 squared is 33489\n",
            "185 squared is 34225\n",
            "187 squared is 34969\n",
            "189 squared is 35721\n",
            "191 squared is 36481\n",
            "193 squared is 37249\n",
            "195 squared is 38025\n",
            "197 squared is 38809\n",
            "199 squared is 39601\n"
          ]
        }
      ]
    },
    {
      "cell_type": "markdown",
      "source": [
        "# Word Counter"
      ],
      "metadata": {
        "id": "baGY6wRkn_qE"
      }
    },
    {
      "cell_type": "code",
      "source": [
        "def word_counter(input_text):\n",
        "    \"\"\"\n",
        "    Count the number of occurrences of each word in a given text.\n",
        "    \"\"\"\n",
        "    words = input_text.split()\n",
        "    word_count = {}\n",
        "\n",
        "    for word in words:\n",
        "        word_count[word] = word_count.get(word, 0) + 1\n",
        "\n",
        "    return word_count\n",
        "\n",
        "# Example usage\n",
        "input_text = \"This is a sample text. This text will be used to demonstrate the word counter.\"\n",
        "result = word_counter(input_text)\n",
        "\n",
        "# Print the word counts\n",
        "for word, count in result.items():\n",
        "    print(f\"'{word}': {count}\")\n"
      ],
      "metadata": {
        "colab": {
          "base_uri": "https://localhost:8080/"
        },
        "id": "Mekr7Fr8oDt3",
        "outputId": "971152a9-c750-4541-f7c1-a5337c167457"
      },
      "execution_count": 6,
      "outputs": [
        {
          "output_type": "stream",
          "name": "stdout",
          "text": [
            "'This': 2\n",
            "'is': 1\n",
            "'a': 1\n",
            "'sample': 1\n",
            "'text.': 1\n",
            "'text': 1\n",
            "'will': 1\n",
            "'be': 1\n",
            "'used': 1\n",
            "'to': 1\n",
            "'demonstrate': 1\n",
            "'the': 1\n",
            "'word': 1\n",
            "'counter.': 1\n"
          ]
        }
      ]
    },
    {
      "cell_type": "markdown",
      "source": [
        "# Check for Palindrome"
      ],
      "metadata": {
        "id": "jXTAUXH2oaLK"
      }
    },
    {
      "cell_type": "code",
      "source": [
        "def is_palindrome(input_string):\n",
        "    \"\"\"\n",
        "    Check if a given string is a palindrome.\n",
        "    A palindrome reads the same forward and backward, ignoring spaces, punctuation, and capitalization.\n",
        "    \"\"\"\n",
        "    # Normalize the string: remove spaces, punctuation, and convert to lowercase\n",
        "    normalized_string = ''.join(char.lower() for char in input_string if char.isalnum())\n",
        "\n",
        "    # Check if the normalized string reads the same forward and backward\n",
        "    return normalized_string == normalized_string[::-1]\n",
        "\n",
        "# Example usage\n",
        "input_string = input(\"Enter a string to check if it's a palindrome: \")\n",
        "if is_palindrome(input_string):\n",
        "    print(f\"'{input_string}' is a palindrome.\")\n",
        "else:\n",
        "    print(f\"'{input_string}' is not a palindrome.\")\n",
        "[]"
      ],
      "metadata": {
        "colab": {
          "base_uri": "https://localhost:8080/"
        },
        "id": "q8IZP6ttoc98",
        "outputId": "272abc77-f161-4d62-ac29-d5ce45981d25"
      },
      "execution_count": 7,
      "outputs": [
        {
          "output_type": "stream",
          "name": "stdout",
          "text": [
            "Enter a string to check if it's a palindrome: kesav\n",
            "'kesav' is not a palindrome.\n"
          ]
        }
      ]
    }
  ]
}