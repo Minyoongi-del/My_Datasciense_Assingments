{
  "nbformat": 4,
  "nbformat_minor": 0,
  "metadata": {
    "colab": {
      "provenance": []
    },
    "kernelspec": {
      "name": "python3",
      "display_name": "Python 3"
    },
    "language_info": {
      "name": "python"
    }
  },
  "cells": [
    {
      "cell_type": "code",
      "execution_count": null,
      "metadata": {
        "id": "zo6USkD1IKmQ"
      },
      "outputs": [],
      "source": []
    },
    {
      "cell_type": "markdown",
      "source": [
        "## MULTIPLE LINEAR REGRESSION\n",
        "\n",
        "Assignment Task:\n",
        "\n",
        "Your task is to perform a multiple linear regression analysis to predict the price of Toyota corolla based on the given attributes.\n",
        "\n",
        "Dataset Description:\n",
        "\n",
        "* The dataset consists of the following variables:\n",
        "\n",
        "    * Age: Age in years\n",
        "    \n",
        "    * KM: Accumulated Kilometers on odometer\n",
        "    \n",
        "    * FuelType: Fuel Type (Petrol, Diesel, CNG)\n",
        "    \n",
        "    * HP: Horse Power\n",
        "    \n",
        "    * Automatic: Automatic ( (Yes=1, No=0)\n",
        "    \n",
        "    * CC: Cylinder Volume in cubic centimeters\n",
        "    \n",
        "    * Doors: Number of doors\n",
        "    \n",
        "    * Weight: Weight in Kilograms\n",
        "    \n",
        "    * Quarterly_Tax:\n",
        "    \n",
        "    * Price: Offer Price in EUROs\n",
        "\n",
        "Taskes:\n",
        "\n",
        "1.Perform exploratory data analysis (EDA) to gain insights into the dataset. Provide visualizations and summary statistics of the variables. Pre process the data to apply the MLR.\n",
        "\n",
        "2.Split the dataset into training and testing sets (e.g., 80% training, 20% testing).\n",
        "\n",
        "3.Build a multiple linear regression model using the training dataset. Interpret the coefficients of the model. Build minimum of 3 different models.\n",
        "\n",
        "4.Evaluate the performance of the model using appropriate evaluation metrics on the testing dataset.\n",
        "\n",
        "5.Apply Lasso and Ridge methods on the model.\n"
      ],
      "metadata": {
        "id": "n8N-I7-jIjdi"
      }
    },
    {
      "cell_type": "code",
      "source": [
        "import pandas as pd\n",
        "import seaborn as sns\n",
        "import matplotlib.pyplot as plt\n",
        "from sklearn.model_selection import train_test_split\n",
        "from sklearn.preprocessing import StandardScaler\n",
        "from sklearn.linear_model import LinearRegression, Lasso, Ridge\n",
        "from sklearn.metrics import mean_squared_error, mean_absolute_error, r2_score\n",
        "import statsmodels.api as sm\n"
      ],
      "metadata": {
        "id": "6EC04F-RrW0R"
      },
      "execution_count": 15,
      "outputs": []
    },
    {
      "cell_type": "code",
      "source": [
        "\n",
        "# Load the data\n",
        "data = pd.read_csv('/content/ToyotaCorolla - MLR.csv')\n",
        "data\n"
      ],
      "metadata": {
        "colab": {
          "base_uri": "https://localhost:8080/",
          "height": 423
        },
        "id": "v2EFre6AJCem",
        "outputId": "0871b680-f691-4e36-c4a6-e92c64f66067"
      },
      "execution_count": 1,
      "outputs": [
        {
          "output_type": "execute_result",
          "data": {
            "text/plain": [
              "      Price  Age_08_04     KM Fuel_Type   HP  Automatic    cc  Doors  \\\n",
              "0     13500         23  46986    Diesel   90          0  2000      3   \n",
              "1     13750         23  72937    Diesel   90          0  2000      3   \n",
              "2     13950         24  41711    Diesel   90          0  2000      3   \n",
              "3     14950         26  48000    Diesel   90          0  2000      3   \n",
              "4     13750         30  38500    Diesel   90          0  2000      3   \n",
              "...     ...        ...    ...       ...  ...        ...   ...    ...   \n",
              "1431   7500         69  20544    Petrol   86          0  1300      3   \n",
              "1432  10845         72  19000    Petrol   86          0  1300      3   \n",
              "1433   8500         71  17016    Petrol   86          0  1300      3   \n",
              "1434   7250         70  16916    Petrol   86          0  1300      3   \n",
              "1435   6950         76      1    Petrol  110          0  1600      5   \n",
              "\n",
              "      Cylinders  Gears  Weight  \n",
              "0             4      5    1165  \n",
              "1             4      5    1165  \n",
              "2             4      5    1165  \n",
              "3             4      5    1165  \n",
              "4             4      5    1170  \n",
              "...         ...    ...     ...  \n",
              "1431          4      5    1025  \n",
              "1432          4      5    1015  \n",
              "1433          4      5    1015  \n",
              "1434          4      5    1015  \n",
              "1435          4      5    1114  \n",
              "\n",
              "[1436 rows x 11 columns]"
            ],
            "text/html": [
              "\n",
              "  <div id=\"df-9efaee25-63c2-4143-99b1-842c0bb8d6d9\" class=\"colab-df-container\">\n",
              "    <div>\n",
              "<style scoped>\n",
              "    .dataframe tbody tr th:only-of-type {\n",
              "        vertical-align: middle;\n",
              "    }\n",
              "\n",
              "    .dataframe tbody tr th {\n",
              "        vertical-align: top;\n",
              "    }\n",
              "\n",
              "    .dataframe thead th {\n",
              "        text-align: right;\n",
              "    }\n",
              "</style>\n",
              "<table border=\"1\" class=\"dataframe\">\n",
              "  <thead>\n",
              "    <tr style=\"text-align: right;\">\n",
              "      <th></th>\n",
              "      <th>Price</th>\n",
              "      <th>Age_08_04</th>\n",
              "      <th>KM</th>\n",
              "      <th>Fuel_Type</th>\n",
              "      <th>HP</th>\n",
              "      <th>Automatic</th>\n",
              "      <th>cc</th>\n",
              "      <th>Doors</th>\n",
              "      <th>Cylinders</th>\n",
              "      <th>Gears</th>\n",
              "      <th>Weight</th>\n",
              "    </tr>\n",
              "  </thead>\n",
              "  <tbody>\n",
              "    <tr>\n",
              "      <th>0</th>\n",
              "      <td>13500</td>\n",
              "      <td>23</td>\n",
              "      <td>46986</td>\n",
              "      <td>Diesel</td>\n",
              "      <td>90</td>\n",
              "      <td>0</td>\n",
              "      <td>2000</td>\n",
              "      <td>3</td>\n",
              "      <td>4</td>\n",
              "      <td>5</td>\n",
              "      <td>1165</td>\n",
              "    </tr>\n",
              "    <tr>\n",
              "      <th>1</th>\n",
              "      <td>13750</td>\n",
              "      <td>23</td>\n",
              "      <td>72937</td>\n",
              "      <td>Diesel</td>\n",
              "      <td>90</td>\n",
              "      <td>0</td>\n",
              "      <td>2000</td>\n",
              "      <td>3</td>\n",
              "      <td>4</td>\n",
              "      <td>5</td>\n",
              "      <td>1165</td>\n",
              "    </tr>\n",
              "    <tr>\n",
              "      <th>2</th>\n",
              "      <td>13950</td>\n",
              "      <td>24</td>\n",
              "      <td>41711</td>\n",
              "      <td>Diesel</td>\n",
              "      <td>90</td>\n",
              "      <td>0</td>\n",
              "      <td>2000</td>\n",
              "      <td>3</td>\n",
              "      <td>4</td>\n",
              "      <td>5</td>\n",
              "      <td>1165</td>\n",
              "    </tr>\n",
              "    <tr>\n",
              "      <th>3</th>\n",
              "      <td>14950</td>\n",
              "      <td>26</td>\n",
              "      <td>48000</td>\n",
              "      <td>Diesel</td>\n",
              "      <td>90</td>\n",
              "      <td>0</td>\n",
              "      <td>2000</td>\n",
              "      <td>3</td>\n",
              "      <td>4</td>\n",
              "      <td>5</td>\n",
              "      <td>1165</td>\n",
              "    </tr>\n",
              "    <tr>\n",
              "      <th>4</th>\n",
              "      <td>13750</td>\n",
              "      <td>30</td>\n",
              "      <td>38500</td>\n",
              "      <td>Diesel</td>\n",
              "      <td>90</td>\n",
              "      <td>0</td>\n",
              "      <td>2000</td>\n",
              "      <td>3</td>\n",
              "      <td>4</td>\n",
              "      <td>5</td>\n",
              "      <td>1170</td>\n",
              "    </tr>\n",
              "    <tr>\n",
              "      <th>...</th>\n",
              "      <td>...</td>\n",
              "      <td>...</td>\n",
              "      <td>...</td>\n",
              "      <td>...</td>\n",
              "      <td>...</td>\n",
              "      <td>...</td>\n",
              "      <td>...</td>\n",
              "      <td>...</td>\n",
              "      <td>...</td>\n",
              "      <td>...</td>\n",
              "      <td>...</td>\n",
              "    </tr>\n",
              "    <tr>\n",
              "      <th>1431</th>\n",
              "      <td>7500</td>\n",
              "      <td>69</td>\n",
              "      <td>20544</td>\n",
              "      <td>Petrol</td>\n",
              "      <td>86</td>\n",
              "      <td>0</td>\n",
              "      <td>1300</td>\n",
              "      <td>3</td>\n",
              "      <td>4</td>\n",
              "      <td>5</td>\n",
              "      <td>1025</td>\n",
              "    </tr>\n",
              "    <tr>\n",
              "      <th>1432</th>\n",
              "      <td>10845</td>\n",
              "      <td>72</td>\n",
              "      <td>19000</td>\n",
              "      <td>Petrol</td>\n",
              "      <td>86</td>\n",
              "      <td>0</td>\n",
              "      <td>1300</td>\n",
              "      <td>3</td>\n",
              "      <td>4</td>\n",
              "      <td>5</td>\n",
              "      <td>1015</td>\n",
              "    </tr>\n",
              "    <tr>\n",
              "      <th>1433</th>\n",
              "      <td>8500</td>\n",
              "      <td>71</td>\n",
              "      <td>17016</td>\n",
              "      <td>Petrol</td>\n",
              "      <td>86</td>\n",
              "      <td>0</td>\n",
              "      <td>1300</td>\n",
              "      <td>3</td>\n",
              "      <td>4</td>\n",
              "      <td>5</td>\n",
              "      <td>1015</td>\n",
              "    </tr>\n",
              "    <tr>\n",
              "      <th>1434</th>\n",
              "      <td>7250</td>\n",
              "      <td>70</td>\n",
              "      <td>16916</td>\n",
              "      <td>Petrol</td>\n",
              "      <td>86</td>\n",
              "      <td>0</td>\n",
              "      <td>1300</td>\n",
              "      <td>3</td>\n",
              "      <td>4</td>\n",
              "      <td>5</td>\n",
              "      <td>1015</td>\n",
              "    </tr>\n",
              "    <tr>\n",
              "      <th>1435</th>\n",
              "      <td>6950</td>\n",
              "      <td>76</td>\n",
              "      <td>1</td>\n",
              "      <td>Petrol</td>\n",
              "      <td>110</td>\n",
              "      <td>0</td>\n",
              "      <td>1600</td>\n",
              "      <td>5</td>\n",
              "      <td>4</td>\n",
              "      <td>5</td>\n",
              "      <td>1114</td>\n",
              "    </tr>\n",
              "  </tbody>\n",
              "</table>\n",
              "<p>1436 rows × 11 columns</p>\n",
              "</div>\n",
              "    <div class=\"colab-df-buttons\">\n",
              "\n",
              "  <div class=\"colab-df-container\">\n",
              "    <button class=\"colab-df-convert\" onclick=\"convertToInteractive('df-9efaee25-63c2-4143-99b1-842c0bb8d6d9')\"\n",
              "            title=\"Convert this dataframe to an interactive table.\"\n",
              "            style=\"display:none;\">\n",
              "\n",
              "  <svg xmlns=\"http://www.w3.org/2000/svg\" height=\"24px\" viewBox=\"0 -960 960 960\">\n",
              "    <path d=\"M120-120v-720h720v720H120Zm60-500h600v-160H180v160Zm220 220h160v-160H400v160Zm0 220h160v-160H400v160ZM180-400h160v-160H180v160Zm440 0h160v-160H620v160ZM180-180h160v-160H180v160Zm440 0h160v-160H620v160Z\"/>\n",
              "  </svg>\n",
              "    </button>\n",
              "\n",
              "  <style>\n",
              "    .colab-df-container {\n",
              "      display:flex;\n",
              "      gap: 12px;\n",
              "    }\n",
              "\n",
              "    .colab-df-convert {\n",
              "      background-color: #E8F0FE;\n",
              "      border: none;\n",
              "      border-radius: 50%;\n",
              "      cursor: pointer;\n",
              "      display: none;\n",
              "      fill: #1967D2;\n",
              "      height: 32px;\n",
              "      padding: 0 0 0 0;\n",
              "      width: 32px;\n",
              "    }\n",
              "\n",
              "    .colab-df-convert:hover {\n",
              "      background-color: #E2EBFA;\n",
              "      box-shadow: 0px 1px 2px rgba(60, 64, 67, 0.3), 0px 1px 3px 1px rgba(60, 64, 67, 0.15);\n",
              "      fill: #174EA6;\n",
              "    }\n",
              "\n",
              "    .colab-df-buttons div {\n",
              "      margin-bottom: 4px;\n",
              "    }\n",
              "\n",
              "    [theme=dark] .colab-df-convert {\n",
              "      background-color: #3B4455;\n",
              "      fill: #D2E3FC;\n",
              "    }\n",
              "\n",
              "    [theme=dark] .colab-df-convert:hover {\n",
              "      background-color: #434B5C;\n",
              "      box-shadow: 0px 1px 3px 1px rgba(0, 0, 0, 0.15);\n",
              "      filter: drop-shadow(0px 1px 2px rgba(0, 0, 0, 0.3));\n",
              "      fill: #FFFFFF;\n",
              "    }\n",
              "  </style>\n",
              "\n",
              "    <script>\n",
              "      const buttonEl =\n",
              "        document.querySelector('#df-9efaee25-63c2-4143-99b1-842c0bb8d6d9 button.colab-df-convert');\n",
              "      buttonEl.style.display =\n",
              "        google.colab.kernel.accessAllowed ? 'block' : 'none';\n",
              "\n",
              "      async function convertToInteractive(key) {\n",
              "        const element = document.querySelector('#df-9efaee25-63c2-4143-99b1-842c0bb8d6d9');\n",
              "        const dataTable =\n",
              "          await google.colab.kernel.invokeFunction('convertToInteractive',\n",
              "                                                    [key], {});\n",
              "        if (!dataTable) return;\n",
              "\n",
              "        const docLinkHtml = 'Like what you see? Visit the ' +\n",
              "          '<a target=\"_blank\" href=https://colab.research.google.com/notebooks/data_table.ipynb>data table notebook</a>'\n",
              "          + ' to learn more about interactive tables.';\n",
              "        element.innerHTML = '';\n",
              "        dataTable['output_type'] = 'display_data';\n",
              "        await google.colab.output.renderOutput(dataTable, element);\n",
              "        const docLink = document.createElement('div');\n",
              "        docLink.innerHTML = docLinkHtml;\n",
              "        element.appendChild(docLink);\n",
              "      }\n",
              "    </script>\n",
              "  </div>\n",
              "\n",
              "\n",
              "<div id=\"df-87fb850e-b45b-487e-bc72-d0f9f9b095f1\">\n",
              "  <button class=\"colab-df-quickchart\" onclick=\"quickchart('df-87fb850e-b45b-487e-bc72-d0f9f9b095f1')\"\n",
              "            title=\"Suggest charts\"\n",
              "            style=\"display:none;\">\n",
              "\n",
              "<svg xmlns=\"http://www.w3.org/2000/svg\" height=\"24px\"viewBox=\"0 0 24 24\"\n",
              "     width=\"24px\">\n",
              "    <g>\n",
              "        <path d=\"M19 3H5c-1.1 0-2 .9-2 2v14c0 1.1.9 2 2 2h14c1.1 0 2-.9 2-2V5c0-1.1-.9-2-2-2zM9 17H7v-7h2v7zm4 0h-2V7h2v10zm4 0h-2v-4h2v4z\"/>\n",
              "    </g>\n",
              "</svg>\n",
              "  </button>\n",
              "\n",
              "<style>\n",
              "  .colab-df-quickchart {\n",
              "      --bg-color: #E8F0FE;\n",
              "      --fill-color: #1967D2;\n",
              "      --hover-bg-color: #E2EBFA;\n",
              "      --hover-fill-color: #174EA6;\n",
              "      --disabled-fill-color: #AAA;\n",
              "      --disabled-bg-color: #DDD;\n",
              "  }\n",
              "\n",
              "  [theme=dark] .colab-df-quickchart {\n",
              "      --bg-color: #3B4455;\n",
              "      --fill-color: #D2E3FC;\n",
              "      --hover-bg-color: #434B5C;\n",
              "      --hover-fill-color: #FFFFFF;\n",
              "      --disabled-bg-color: #3B4455;\n",
              "      --disabled-fill-color: #666;\n",
              "  }\n",
              "\n",
              "  .colab-df-quickchart {\n",
              "    background-color: var(--bg-color);\n",
              "    border: none;\n",
              "    border-radius: 50%;\n",
              "    cursor: pointer;\n",
              "    display: none;\n",
              "    fill: var(--fill-color);\n",
              "    height: 32px;\n",
              "    padding: 0;\n",
              "    width: 32px;\n",
              "  }\n",
              "\n",
              "  .colab-df-quickchart:hover {\n",
              "    background-color: var(--hover-bg-color);\n",
              "    box-shadow: 0 1px 2px rgba(60, 64, 67, 0.3), 0 1px 3px 1px rgba(60, 64, 67, 0.15);\n",
              "    fill: var(--button-hover-fill-color);\n",
              "  }\n",
              "\n",
              "  .colab-df-quickchart-complete:disabled,\n",
              "  .colab-df-quickchart-complete:disabled:hover {\n",
              "    background-color: var(--disabled-bg-color);\n",
              "    fill: var(--disabled-fill-color);\n",
              "    box-shadow: none;\n",
              "  }\n",
              "\n",
              "  .colab-df-spinner {\n",
              "    border: 2px solid var(--fill-color);\n",
              "    border-color: transparent;\n",
              "    border-bottom-color: var(--fill-color);\n",
              "    animation:\n",
              "      spin 1s steps(1) infinite;\n",
              "  }\n",
              "\n",
              "  @keyframes spin {\n",
              "    0% {\n",
              "      border-color: transparent;\n",
              "      border-bottom-color: var(--fill-color);\n",
              "      border-left-color: var(--fill-color);\n",
              "    }\n",
              "    20% {\n",
              "      border-color: transparent;\n",
              "      border-left-color: var(--fill-color);\n",
              "      border-top-color: var(--fill-color);\n",
              "    }\n",
              "    30% {\n",
              "      border-color: transparent;\n",
              "      border-left-color: var(--fill-color);\n",
              "      border-top-color: var(--fill-color);\n",
              "      border-right-color: var(--fill-color);\n",
              "    }\n",
              "    40% {\n",
              "      border-color: transparent;\n",
              "      border-right-color: var(--fill-color);\n",
              "      border-top-color: var(--fill-color);\n",
              "    }\n",
              "    60% {\n",
              "      border-color: transparent;\n",
              "      border-right-color: var(--fill-color);\n",
              "    }\n",
              "    80% {\n",
              "      border-color: transparent;\n",
              "      border-right-color: var(--fill-color);\n",
              "      border-bottom-color: var(--fill-color);\n",
              "    }\n",
              "    90% {\n",
              "      border-color: transparent;\n",
              "      border-bottom-color: var(--fill-color);\n",
              "    }\n",
              "  }\n",
              "</style>\n",
              "\n",
              "  <script>\n",
              "    async function quickchart(key) {\n",
              "      const quickchartButtonEl =\n",
              "        document.querySelector('#' + key + ' button');\n",
              "      quickchartButtonEl.disabled = true;  // To prevent multiple clicks.\n",
              "      quickchartButtonEl.classList.add('colab-df-spinner');\n",
              "      try {\n",
              "        const charts = await google.colab.kernel.invokeFunction(\n",
              "            'suggestCharts', [key], {});\n",
              "      } catch (error) {\n",
              "        console.error('Error during call to suggestCharts:', error);\n",
              "      }\n",
              "      quickchartButtonEl.classList.remove('colab-df-spinner');\n",
              "      quickchartButtonEl.classList.add('colab-df-quickchart-complete');\n",
              "    }\n",
              "    (() => {\n",
              "      let quickchartButtonEl =\n",
              "        document.querySelector('#df-87fb850e-b45b-487e-bc72-d0f9f9b095f1 button');\n",
              "      quickchartButtonEl.style.display =\n",
              "        google.colab.kernel.accessAllowed ? 'block' : 'none';\n",
              "    })();\n",
              "  </script>\n",
              "</div>\n",
              "\n",
              "  <div id=\"id_77a20f60-e86b-4e2b-93a9-cb5f904bffd7\">\n",
              "    <style>\n",
              "      .colab-df-generate {\n",
              "        background-color: #E8F0FE;\n",
              "        border: none;\n",
              "        border-radius: 50%;\n",
              "        cursor: pointer;\n",
              "        display: none;\n",
              "        fill: #1967D2;\n",
              "        height: 32px;\n",
              "        padding: 0 0 0 0;\n",
              "        width: 32px;\n",
              "      }\n",
              "\n",
              "      .colab-df-generate:hover {\n",
              "        background-color: #E2EBFA;\n",
              "        box-shadow: 0px 1px 2px rgba(60, 64, 67, 0.3), 0px 1px 3px 1px rgba(60, 64, 67, 0.15);\n",
              "        fill: #174EA6;\n",
              "      }\n",
              "\n",
              "      [theme=dark] .colab-df-generate {\n",
              "        background-color: #3B4455;\n",
              "        fill: #D2E3FC;\n",
              "      }\n",
              "\n",
              "      [theme=dark] .colab-df-generate:hover {\n",
              "        background-color: #434B5C;\n",
              "        box-shadow: 0px 1px 3px 1px rgba(0, 0, 0, 0.15);\n",
              "        filter: drop-shadow(0px 1px 2px rgba(0, 0, 0, 0.3));\n",
              "        fill: #FFFFFF;\n",
              "      }\n",
              "    </style>\n",
              "    <button class=\"colab-df-generate\" onclick=\"generateWithVariable('data')\"\n",
              "            title=\"Generate code using this dataframe.\"\n",
              "            style=\"display:none;\">\n",
              "\n",
              "  <svg xmlns=\"http://www.w3.org/2000/svg\" height=\"24px\"viewBox=\"0 0 24 24\"\n",
              "       width=\"24px\">\n",
              "    <path d=\"M7,19H8.4L18.45,9,17,7.55,7,17.6ZM5,21V16.75L18.45,3.32a2,2,0,0,1,2.83,0l1.4,1.43a1.91,1.91,0,0,1,.58,1.4,1.91,1.91,0,0,1-.58,1.4L9.25,21ZM18.45,9,17,7.55Zm-12,3A5.31,5.31,0,0,0,4.9,8.1,5.31,5.31,0,0,0,1,6.5,5.31,5.31,0,0,0,4.9,4.9,5.31,5.31,0,0,0,6.5,1,5.31,5.31,0,0,0,8.1,4.9,5.31,5.31,0,0,0,12,6.5,5.46,5.46,0,0,0,6.5,12Z\"/>\n",
              "  </svg>\n",
              "    </button>\n",
              "    <script>\n",
              "      (() => {\n",
              "      const buttonEl =\n",
              "        document.querySelector('#id_77a20f60-e86b-4e2b-93a9-cb5f904bffd7 button.colab-df-generate');\n",
              "      buttonEl.style.display =\n",
              "        google.colab.kernel.accessAllowed ? 'block' : 'none';\n",
              "\n",
              "      buttonEl.onclick = () => {\n",
              "        google.colab.notebook.generateWithVariable('data');\n",
              "      }\n",
              "      })();\n",
              "    </script>\n",
              "  </div>\n",
              "\n",
              "    </div>\n",
              "  </div>\n"
            ],
            "application/vnd.google.colaboratory.intrinsic+json": {
              "type": "dataframe",
              "variable_name": "data",
              "summary": "{\n  \"name\": \"data\",\n  \"rows\": 1436,\n  \"fields\": [\n    {\n      \"column\": \"Price\",\n      \"properties\": {\n        \"dtype\": \"number\",\n        \"std\": 3626,\n        \"min\": 4350,\n        \"max\": 32500,\n        \"num_unique_values\": 236,\n        \"samples\": [\n          17795,\n          10350,\n          8995\n        ],\n        \"semantic_type\": \"\",\n        \"description\": \"\"\n      }\n    },\n    {\n      \"column\": \"Age_08_04\",\n      \"properties\": {\n        \"dtype\": \"number\",\n        \"std\": 18,\n        \"min\": 1,\n        \"max\": 80,\n        \"num_unique_values\": 77,\n        \"samples\": [\n          32,\n          39,\n          29\n        ],\n        \"semantic_type\": \"\",\n        \"description\": \"\"\n      }\n    },\n    {\n      \"column\": \"KM\",\n      \"properties\": {\n        \"dtype\": \"number\",\n        \"std\": 37506,\n        \"min\": 1,\n        \"max\": 243000,\n        \"num_unique_values\": 1263,\n        \"samples\": [\n          57829,\n          51000,\n          34882\n        ],\n        \"semantic_type\": \"\",\n        \"description\": \"\"\n      }\n    },\n    {\n      \"column\": \"Fuel_Type\",\n      \"properties\": {\n        \"dtype\": \"category\",\n        \"num_unique_values\": 3,\n        \"samples\": [\n          \"Diesel\",\n          \"Petrol\",\n          \"CNG\"\n        ],\n        \"semantic_type\": \"\",\n        \"description\": \"\"\n      }\n    },\n    {\n      \"column\": \"HP\",\n      \"properties\": {\n        \"dtype\": \"number\",\n        \"std\": 14,\n        \"min\": 69,\n        \"max\": 192,\n        \"num_unique_values\": 12,\n        \"samples\": [\n          107,\n          72,\n          90\n        ],\n        \"semantic_type\": \"\",\n        \"description\": \"\"\n      }\n    },\n    {\n      \"column\": \"Automatic\",\n      \"properties\": {\n        \"dtype\": \"number\",\n        \"std\": 0,\n        \"min\": 0,\n        \"max\": 1,\n        \"num_unique_values\": 2,\n        \"samples\": [\n          1,\n          0\n        ],\n        \"semantic_type\": \"\",\n        \"description\": \"\"\n      }\n    },\n    {\n      \"column\": \"cc\",\n      \"properties\": {\n        \"dtype\": \"number\",\n        \"std\": 424,\n        \"min\": 1300,\n        \"max\": 16000,\n        \"num_unique_values\": 13,\n        \"samples\": [\n          1975,\n          1300\n        ],\n        \"semantic_type\": \"\",\n        \"description\": \"\"\n      }\n    },\n    {\n      \"column\": \"Doors\",\n      \"properties\": {\n        \"dtype\": \"number\",\n        \"std\": 0,\n        \"min\": 2,\n        \"max\": 5,\n        \"num_unique_values\": 4,\n        \"samples\": [\n          5,\n          2\n        ],\n        \"semantic_type\": \"\",\n        \"description\": \"\"\n      }\n    },\n    {\n      \"column\": \"Cylinders\",\n      \"properties\": {\n        \"dtype\": \"number\",\n        \"std\": 0,\n        \"min\": 4,\n        \"max\": 4,\n        \"num_unique_values\": 1,\n        \"samples\": [\n          4\n        ],\n        \"semantic_type\": \"\",\n        \"description\": \"\"\n      }\n    },\n    {\n      \"column\": \"Gears\",\n      \"properties\": {\n        \"dtype\": \"number\",\n        \"std\": 0,\n        \"min\": 3,\n        \"max\": 6,\n        \"num_unique_values\": 4,\n        \"samples\": [\n          6\n        ],\n        \"semantic_type\": \"\",\n        \"description\": \"\"\n      }\n    },\n    {\n      \"column\": \"Weight\",\n      \"properties\": {\n        \"dtype\": \"number\",\n        \"std\": 52,\n        \"min\": 1000,\n        \"max\": 1615,\n        \"num_unique_values\": 59,\n        \"samples\": [\n          1165\n        ],\n        \"semantic_type\": \"\",\n        \"description\": \"\"\n      }\n    }\n  ]\n}"
            }
          },
          "metadata": {},
          "execution_count": 1
        }
      ]
    },
    {
      "cell_type": "code",
      "source": [
        "# Verify the correct column names in DataFrame\n",
        "print(data.columns)\n"
      ],
      "metadata": {
        "colab": {
          "base_uri": "https://localhost:8080/"
        },
        "id": "jbllk7BcrdOM",
        "outputId": "7493f40d-0a8f-40ec-d47a-cc0e1caf6a0f"
      },
      "execution_count": 17,
      "outputs": [
        {
          "output_type": "stream",
          "name": "stdout",
          "text": [
            "Index(['Price', 'Age_08_04', 'KM', 'HP', 'Automatic', 'cc', 'Doors',\n",
            "       'Cylinders', 'Gears', 'Weight', 'Fuel_Type_CNG', 'Fuel_Type_Diesel',\n",
            "       'Fuel_Type_Petrol'],\n",
            "      dtype='object')\n"
          ]
        }
      ]
    },
    {
      "cell_type": "code",
      "source": [
        "# Summary statistics\n",
        "summary = data.describe(include='all')\n",
        "print(summary)"
      ],
      "metadata": {
        "colab": {
          "base_uri": "https://localhost:8080/"
        },
        "id": "igOn4DtTpdub",
        "outputId": "662a7ea1-7589-48f9-90df-f80f6bf987b9"
      },
      "execution_count": 2,
      "outputs": [
        {
          "output_type": "stream",
          "name": "stdout",
          "text": [
            "               Price    Age_08_04             KM Fuel_Type           HP  \\\n",
            "count    1436.000000  1436.000000    1436.000000      1436  1436.000000   \n",
            "unique           NaN          NaN            NaN         3          NaN   \n",
            "top              NaN          NaN            NaN    Petrol          NaN   \n",
            "freq             NaN          NaN            NaN      1264          NaN   \n",
            "mean    10730.824513    55.947075   68533.259749       NaN   101.502089   \n",
            "std      3626.964585    18.599988   37506.448872       NaN    14.981080   \n",
            "min      4350.000000     1.000000       1.000000       NaN    69.000000   \n",
            "25%      8450.000000    44.000000   43000.000000       NaN    90.000000   \n",
            "50%      9900.000000    61.000000   63389.500000       NaN   110.000000   \n",
            "75%     11950.000000    70.000000   87020.750000       NaN   110.000000   \n",
            "max     32500.000000    80.000000  243000.000000       NaN   192.000000   \n",
            "\n",
            "          Automatic           cc        Doors  Cylinders        Gears  \\\n",
            "count   1436.000000   1436.00000  1436.000000     1436.0  1436.000000   \n",
            "unique          NaN          NaN          NaN        NaN          NaN   \n",
            "top             NaN          NaN          NaN        NaN          NaN   \n",
            "freq            NaN          NaN          NaN        NaN          NaN   \n",
            "mean       0.055710   1576.85585     4.033426        4.0     5.026462   \n",
            "std        0.229441    424.38677     0.952677        0.0     0.188510   \n",
            "min        0.000000   1300.00000     2.000000        4.0     3.000000   \n",
            "25%        0.000000   1400.00000     3.000000        4.0     5.000000   \n",
            "50%        0.000000   1600.00000     4.000000        4.0     5.000000   \n",
            "75%        0.000000   1600.00000     5.000000        4.0     5.000000   \n",
            "max        1.000000  16000.00000     5.000000        4.0     6.000000   \n",
            "\n",
            "            Weight  \n",
            "count   1436.00000  \n",
            "unique         NaN  \n",
            "top            NaN  \n",
            "freq           NaN  \n",
            "mean    1072.45961  \n",
            "std       52.64112  \n",
            "min     1000.00000  \n",
            "25%     1040.00000  \n",
            "50%     1070.00000  \n",
            "75%     1085.00000  \n",
            "max     1615.00000  \n"
          ]
        }
      ]
    },
    {
      "cell_type": "code",
      "source": [
        "# Handling Missing Values\n",
        "data.dropna(inplace=True)\n",
        "\n",
        "# Normalization/Standardization\n",
        "scaler = StandardScaler()\n",
        "data[['Age_08_04', 'KM', 'HP', 'cc', 'Doors', 'Weight']] = scaler.fit_transform(\n",
        "    data[['Age_08_04', 'KM', 'HP', 'cc', 'Doors', 'Weight']]\n",
        ")"
      ],
      "metadata": {
        "id": "m9vq11PWpiEh"
      },
      "execution_count": 32,
      "outputs": []
    },
    {
      "cell_type": "code",
      "source": [
        "\n",
        "# Split the dataset\n",
        "X = data.drop('Price', axis=1)  # Features\n",
        "y = data['Price']  # Target variable\n",
        "\n",
        "X_train, X_test, y_train, y_test = train_test_split(X, y, test_size=0.2, random_state=42)\n",
        "print(\"Training Set:\")\n",
        "print(\"Features:\")\n",
        "print(X_train.shape)\n",
        "print(\"Target Variable:\")\n",
        "print(y_train.shape)\n",
        "print(\"Testing Set:\")\n",
        "print(\"Features:\")\n",
        "print(X_test.shape)\n",
        "print(\"Target Variable:\")\n",
        "print(y_test.shape)"
      ],
      "metadata": {
        "colab": {
          "base_uri": "https://localhost:8080/"
        },
        "id": "XrsDacRPrFU9",
        "outputId": "2fcd559e-d71b-4961-9885-b501d65b4232"
      },
      "execution_count": 34,
      "outputs": [
        {
          "output_type": "stream",
          "name": "stdout",
          "text": [
            "Training Set:\n",
            "Features:\n",
            "(1148, 12)\n",
            "Target Variable:\n",
            "(1148,)\n",
            "Testing Set:\n",
            "Features:\n",
            "(288, 12)\n",
            "Target Variable:\n",
            "(288,)\n"
          ]
        }
      ]
    },
    {
      "cell_type": "code",
      "source": [
        "# Convert all columns of X_train and y_train to numeric to avoid dtype issues\n",
        "X_train = X_train.apply(pd.to_numeric, errors='coerce')\n",
        "y_train = pd.to_numeric(y_train, errors='coerce')\n",
        "\n",
        "# Handle any NaN values that result from coercion (you can drop or fill them)\n",
        "X_train = X_train.fillna(0)\n",
        "y_train = y_train.fillna(0)\n",
        "\n",
        "# Similarly, convert all columns of X_test to numeric\n",
        "X_test = X_test.apply(pd.to_numeric, errors='coerce')\n",
        "y_test = pd.to_numeric(y_test, errors='coerce')\n",
        "\n",
        "print(\"X_train Data Types:\")\n",
        "print(X_train.dtypes)\n",
        "\n",
        "print(\"\\ny_train Data Types:\")\n",
        "print(y_train.dtypes)\n",
        "\n",
        "print(\"\\nX_test Data Types:\")\n",
        "print(X_test.dtypes)\n",
        "\n",
        "print(\"\\ny_test Data Types:\")\n",
        "print(y_test.dtypes)"
      ],
      "metadata": {
        "colab": {
          "base_uri": "https://localhost:8080/"
        },
        "id": "hsa4hxmhrIe_",
        "outputId": "e10466e0-8633-45d2-df37-70e65658b645"
      },
      "execution_count": 35,
      "outputs": [
        {
          "output_type": "stream",
          "name": "stdout",
          "text": [
            "X_train Data Types:\n",
            "Age_08_04           float64\n",
            "KM                  float64\n",
            "HP                  float64\n",
            "Automatic             int64\n",
            "cc                  float64\n",
            "Doors               float64\n",
            "Cylinders             int64\n",
            "Gears                 int64\n",
            "Weight              float64\n",
            "Fuel_Type_CNG          bool\n",
            "Fuel_Type_Diesel       bool\n",
            "Fuel_Type_Petrol       bool\n",
            "dtype: object\n",
            "\n",
            "y_train Data Types:\n",
            "int64\n",
            "\n",
            "X_test Data Types:\n",
            "Age_08_04           float64\n",
            "KM                  float64\n",
            "HP                  float64\n",
            "Automatic             int64\n",
            "cc                  float64\n",
            "Doors               float64\n",
            "Cylinders             int64\n",
            "Gears                 int64\n",
            "Weight              float64\n",
            "Fuel_Type_CNG          bool\n",
            "Fuel_Type_Diesel       bool\n",
            "Fuel_Type_Petrol       bool\n",
            "dtype: object\n",
            "\n",
            "y_test Data Types:\n",
            "int64\n"
          ]
        }
      ]
    },
    {
      "cell_type": "code",
      "source": [
        "# Handle any NaN values in X_test and y_test\n",
        "X_test = X_test.fillna(0)\n",
        "y_test = y_test.fillna(0)\n",
        "\n",
        "print(\"X_test Data Types after Handling NaN:\")\n",
        "print(X_test.dtypes)\n",
        "\n",
        "print(\"\\ny_test Data Types after Handling NaN:\")\n",
        "print(y_test.dtypes)"
      ],
      "metadata": {
        "colab": {
          "base_uri": "https://localhost:8080/"
        },
        "id": "noNU11Gyt-Yv",
        "outputId": "70f1a2ba-b321-4f19-be89-615112c2e06c"
      },
      "execution_count": 36,
      "outputs": [
        {
          "output_type": "stream",
          "name": "stdout",
          "text": [
            "X_test Data Types after Handling NaN:\n",
            "Age_08_04           float64\n",
            "KM                  float64\n",
            "HP                  float64\n",
            "Automatic             int64\n",
            "cc                  float64\n",
            "Doors               float64\n",
            "Cylinders             int64\n",
            "Gears                 int64\n",
            "Weight              float64\n",
            "Fuel_Type_CNG          bool\n",
            "Fuel_Type_Diesel       bool\n",
            "Fuel_Type_Petrol       bool\n",
            "dtype: object\n",
            "\n",
            "y_test Data Types after Handling NaN:\n",
            "int64\n"
          ]
        }
      ]
    },
    {
      "cell_type": "markdown",
      "source": [
        "# LinearRegression"
      ],
      "metadata": {
        "id": "81zIGgvex4ir"
      }
    },
    {
      "cell_type": "code",
      "source": [
        "# Base Model\n",
        "model1 = LinearRegression()\n",
        "model1.fit(X_train, y_train)"
      ],
      "metadata": {
        "colab": {
          "base_uri": "https://localhost:8080/",
          "height": 74
        },
        "id": "Kz1FBDckqB-d",
        "outputId": "a84b8588-cff3-4a70-ac84-09c3a8c2c5ec"
      },
      "execution_count": 37,
      "outputs": [
        {
          "output_type": "execute_result",
          "data": {
            "text/plain": [
              "LinearRegression()"
            ],
            "text/html": [
              "<style>#sk-container-id-2 {color: black;}#sk-container-id-2 pre{padding: 0;}#sk-container-id-2 div.sk-toggleable {background-color: white;}#sk-container-id-2 label.sk-toggleable__label {cursor: pointer;display: block;width: 100%;margin-bottom: 0;padding: 0.3em;box-sizing: border-box;text-align: center;}#sk-container-id-2 label.sk-toggleable__label-arrow:before {content: \"▸\";float: left;margin-right: 0.25em;color: #696969;}#sk-container-id-2 label.sk-toggleable__label-arrow:hover:before {color: black;}#sk-container-id-2 div.sk-estimator:hover label.sk-toggleable__label-arrow:before {color: black;}#sk-container-id-2 div.sk-toggleable__content {max-height: 0;max-width: 0;overflow: hidden;text-align: left;background-color: #f0f8ff;}#sk-container-id-2 div.sk-toggleable__content pre {margin: 0.2em;color: black;border-radius: 0.25em;background-color: #f0f8ff;}#sk-container-id-2 input.sk-toggleable__control:checked~div.sk-toggleable__content {max-height: 200px;max-width: 100%;overflow: auto;}#sk-container-id-2 input.sk-toggleable__control:checked~label.sk-toggleable__label-arrow:before {content: \"▾\";}#sk-container-id-2 div.sk-estimator input.sk-toggleable__control:checked~label.sk-toggleable__label {background-color: #d4ebff;}#sk-container-id-2 div.sk-label input.sk-toggleable__control:checked~label.sk-toggleable__label {background-color: #d4ebff;}#sk-container-id-2 input.sk-hidden--visually {border: 0;clip: rect(1px 1px 1px 1px);clip: rect(1px, 1px, 1px, 1px);height: 1px;margin: -1px;overflow: hidden;padding: 0;position: absolute;width: 1px;}#sk-container-id-2 div.sk-estimator {font-family: monospace;background-color: #f0f8ff;border: 1px dotted black;border-radius: 0.25em;box-sizing: border-box;margin-bottom: 0.5em;}#sk-container-id-2 div.sk-estimator:hover {background-color: #d4ebff;}#sk-container-id-2 div.sk-parallel-item::after {content: \"\";width: 100%;border-bottom: 1px solid gray;flex-grow: 1;}#sk-container-id-2 div.sk-label:hover label.sk-toggleable__label {background-color: #d4ebff;}#sk-container-id-2 div.sk-serial::before {content: \"\";position: absolute;border-left: 1px solid gray;box-sizing: border-box;top: 0;bottom: 0;left: 50%;z-index: 0;}#sk-container-id-2 div.sk-serial {display: flex;flex-direction: column;align-items: center;background-color: white;padding-right: 0.2em;padding-left: 0.2em;position: relative;}#sk-container-id-2 div.sk-item {position: relative;z-index: 1;}#sk-container-id-2 div.sk-parallel {display: flex;align-items: stretch;justify-content: center;background-color: white;position: relative;}#sk-container-id-2 div.sk-item::before, #sk-container-id-2 div.sk-parallel-item::before {content: \"\";position: absolute;border-left: 1px solid gray;box-sizing: border-box;top: 0;bottom: 0;left: 50%;z-index: -1;}#sk-container-id-2 div.sk-parallel-item {display: flex;flex-direction: column;z-index: 1;position: relative;background-color: white;}#sk-container-id-2 div.sk-parallel-item:first-child::after {align-self: flex-end;width: 50%;}#sk-container-id-2 div.sk-parallel-item:last-child::after {align-self: flex-start;width: 50%;}#sk-container-id-2 div.sk-parallel-item:only-child::after {width: 0;}#sk-container-id-2 div.sk-dashed-wrapped {border: 1px dashed gray;margin: 0 0.4em 0.5em 0.4em;box-sizing: border-box;padding-bottom: 0.4em;background-color: white;}#sk-container-id-2 div.sk-label label {font-family: monospace;font-weight: bold;display: inline-block;line-height: 1.2em;}#sk-container-id-2 div.sk-label-container {text-align: center;}#sk-container-id-2 div.sk-container {/* jupyter's `normalize.less` sets `[hidden] { display: none; }` but bootstrap.min.css set `[hidden] { display: none !important; }` so we also need the `!important` here to be able to override the default hidden behavior on the sphinx rendered scikit-learn.org. See: https://github.com/scikit-learn/scikit-learn/issues/21755 */display: inline-block !important;position: relative;}#sk-container-id-2 div.sk-text-repr-fallback {display: none;}</style><div id=\"sk-container-id-2\" class=\"sk-top-container\"><div class=\"sk-text-repr-fallback\"><pre>LinearRegression()</pre><b>In a Jupyter environment, please rerun this cell to show the HTML representation or trust the notebook. <br />On GitHub, the HTML representation is unable to render, please try loading this page with nbviewer.org.</b></div><div class=\"sk-container\" hidden><div class=\"sk-item\"><div class=\"sk-estimator sk-toggleable\"><input class=\"sk-toggleable__control sk-hidden--visually\" id=\"sk-estimator-id-2\" type=\"checkbox\" checked><label for=\"sk-estimator-id-2\" class=\"sk-toggleable__label sk-toggleable__label-arrow\">LinearRegression</label><div class=\"sk-toggleable__content\"><pre>LinearRegression()</pre></div></div></div></div></div>"
            ]
          },
          "metadata": {},
          "execution_count": 37
        }
      ]
    },
    {
      "cell_type": "code",
      "source": [
        "# Print summary\n",
        "print(model2.summary())"
      ],
      "metadata": {
        "colab": {
          "base_uri": "https://localhost:8080/"
        },
        "id": "JZdKAcK2v5Bg",
        "outputId": "5cbeeeb4-4af2-4fb6-a55f-c7b16c867026"
      },
      "execution_count": 47,
      "outputs": [
        {
          "output_type": "stream",
          "name": "stdout",
          "text": [
            "                            OLS Regression Results                            \n",
            "==============================================================================\n",
            "Dep. Variable:                      y   R-squared:                       0.870\n",
            "Model:                            OLS   Adj. R-squared:                  0.869\n",
            "Method:                 Least Squares   F-statistic:                     762.7\n",
            "Date:                Fri, 20 Sep 2024   Prob (F-statistic):               0.00\n",
            "Time:                        14:04:51   Log-Likelihood:                -9863.2\n",
            "No. Observations:                1148   AIC:                         1.975e+04\n",
            "Df Residuals:                    1137   BIC:                         1.980e+04\n",
            "Df Model:                          10                                         \n",
            "Covariance Type:            nonrobust                                         \n",
            "==============================================================================\n",
            "                 coef    std err          t      P>|t|      [0.025      0.975]\n",
            "------------------------------------------------------------------------------\n",
            "x1         -2246.6624     53.672    -41.859      0.000   -2351.969   -2141.355\n",
            "x2          -608.5706     55.061    -11.053      0.000    -716.603    -500.538\n",
            "x3           210.2533     60.314      3.486      0.001      91.915     328.592\n",
            "x4           148.8309    177.194      0.840      0.401    -198.833     496.495\n",
            "x5           -12.8851     38.429     -0.335      0.737     -88.285      62.515\n",
            "x6           -57.4368     42.808     -1.342      0.180    -141.429      26.556\n",
            "const       1763.4257    253.635      6.953      0.000    1265.781    2261.070\n",
            "x7           551.6007    206.048      2.677      0.008     147.324     955.877\n",
            "x8          1362.1387     78.759     17.295      0.000    1207.610    1516.667\n",
            "x9          -287.1346    226.750     -1.266      0.206    -732.030     157.761\n",
            "x10         -355.6833    196.698     -1.808      0.071    -741.615      30.249\n",
            "x11         1083.6743    156.480      6.925      0.000     776.652    1390.697\n",
            "==============================================================================\n",
            "Omnibus:                      212.816   Durbin-Watson:                   2.035\n",
            "Prob(Omnibus):                  0.000   Jarque-Bera (JB):             2408.915\n",
            "Skew:                          -0.492   Prob(JB):                         0.00\n",
            "Kurtosis:                      10.028   Cond. No.                     3.04e+16\n",
            "==============================================================================\n",
            "\n",
            "Notes:\n",
            "[1] Standard Errors assume that the covariance matrix of the errors is correctly specified.\n",
            "[2] The smallest eigenvalue is 5.24e-29. This might indicate that there are\n",
            "strong multicollinearity problems or that the design matrix is singular.\n"
          ]
        }
      ]
    },
    {
      "cell_type": "code",
      "source": [
        "\n",
        "y_pred = model1.predict(X_test)\n",
        "y_pred\n"
      ],
      "metadata": {
        "colab": {
          "base_uri": "https://localhost:8080/"
        },
        "id": "UXoqiVqAsgph",
        "outputId": "f0605f24-1e12-4a1e-a272-aef15142cd85"
      },
      "execution_count": 38,
      "outputs": [
        {
          "output_type": "execute_result",
          "data": {
            "text/plain": [
              "array([11137.15453645,  8974.9731327 ,  9283.27025955,  8951.97440751,\n",
              "       10082.31592852,  7959.3269862 ,  8656.43768303,  8254.87283979,\n",
              "       14063.40319186, 13099.95735642,  9551.42647033,  9325.01973397,\n",
              "       12919.13152502, 12925.08574757,  9793.37148737,  8305.77313577,\n",
              "       12190.02678644, 17535.47631867,  7469.10553333,  9146.75133486,\n",
              "       12638.29998775, 17804.25328461,  7903.43441681, 10386.01442865,\n",
              "        7580.43295913, 16058.83988677, 10034.10324597,  7412.37291567,\n",
              "       15766.17628452, 14440.45886039,  8163.90729602,  9609.36755541,\n",
              "        8509.88035778, 10098.71270421, 10245.63943307,  8073.58357557,\n",
              "        8759.24335824,  9965.93592783, 16471.77872927,  9624.35819079,\n",
              "        9829.937657  ,  9503.46762021,  7888.13705539,  5698.36965348,\n",
              "        6870.22880548, 17266.12085347,  9441.28892372, 10702.0580487 ,\n",
              "        8748.50876678, 13429.13420122, 12940.89346452,  6393.20092254,\n",
              "       15071.98364029, 16374.4739198 ,  6194.47032501,  7783.01004642,\n",
              "       10250.60750962, 10892.73156479, 16161.77461917, 18896.4137361 ,\n",
              "       12700.82225076,  7935.85833552,  7924.15312986, 11012.48786554,\n",
              "       13355.82051501,  8971.48313738, 12701.62150354,  7664.64917455,\n",
              "        8412.63591203, 10487.20510698, 19871.26659719, 11269.69286416,\n",
              "       12815.02374893,  7225.52850012, 18786.49909189, 13900.19635815,\n",
              "        7665.92790172,  7704.08820933,  9852.42107465,  9046.0642993 ,\n",
              "       10359.40529553,  8713.59081042, 10601.53549709, 10774.23066996,\n",
              "        7384.93193848,  6363.9147391 , 11491.84691663, 12990.03032657,\n",
              "        9577.99370147, 10755.83766702,  7422.03000716,  6831.71078697,\n",
              "       10489.99476358, 10919.11199155, 12695.0857688 ,  9306.21574877,\n",
              "       21404.03714114,  7972.12174067, 13925.17762225,  8932.38488568,\n",
              "       10594.42470302,  9541.83562393, 10481.96148022, 16877.83426826,\n",
              "        8673.03027756,  7735.49160673, 16766.51028446,  7677.26221628,\n",
              "        9577.99512716,  8012.48129591, 11678.86729581, 10331.58561681,\n",
              "        9577.03819427, 13677.40961591,  9460.1219842 ,  8343.20980469,\n",
              "        6629.06634417, 13329.0434062 , 12640.03324744, 13976.98716176,\n",
              "        8000.16920788,  7484.91966395,  8333.36653381, 15230.01399841,\n",
              "       11594.31901036,  8579.96522872, 12971.21196851,  8987.26297167,\n",
              "        8578.18862513, 12182.930546  , 11254.64659606, 15743.84475948,\n",
              "       10846.86840097,  9125.92408323,  6579.8736573 ,  9629.99480596,\n",
              "       10334.1288671 , 11501.96163563,  8263.19178376,  5310.8412713 ,\n",
              "       12579.88347728, 10874.41178953, 12492.48889706,  8485.41474828,\n",
              "       12215.41984108, 11181.52624306,  7315.50385713,  8636.37926082,\n",
              "        8663.92987751, 11104.47686931, 10350.71381571, 16148.77709684,\n",
              "        8221.75422791,  8985.93469265, 11196.68495488, 10924.2991619 ,\n",
              "        8905.81931178, 13348.01704408,  9476.30739577, 19318.13787209,\n",
              "       11216.14570972, 15822.91651684, 15538.8716103 ,  7787.19775036,\n",
              "        8828.7787213 , 12632.82640684,  7925.29020973, 13520.08622798,\n",
              "        7807.86741339,  7666.87706993,  8208.38467209, 12173.3164373 ,\n",
              "        9332.72611896, 13012.27562012, 10274.20479721,  9620.67721362,\n",
              "       16922.34463373, 10723.03247923,  9730.52489117, 10753.36107025,\n",
              "       12165.41150407, 11279.06153226, 13619.97049132,  8356.39742642,\n",
              "        9339.46456625,  7335.77607857,  6055.06817666,  8294.02159448,\n",
              "        9712.72262926, 11019.95412979,  8992.6025094 ,  7273.06174554,\n",
              "        6423.39394817, 11173.54855752, 10389.94129759, 11028.79491865,\n",
              "        6863.04008205,  7130.39479482,  9926.07350239, 18337.14802069,\n",
              "        9262.63621955,  7780.96765513,  6919.0182557 ,  9049.8735798 ,\n",
              "       16273.1651299 , 17268.82416224, 10799.45354843, 10103.94768016,\n",
              "       10682.26564345,  9268.84933132,  9243.40746779, 11130.11664695,\n",
              "       10087.06073187,  9972.8444143 ,  7078.56244371, 11636.05252468,\n",
              "        7983.83604466,  9250.69664934,  7176.34607905, 11816.21925771,\n",
              "        8506.28912852, 10440.50261995, 10285.56482061, 10408.40561735,\n",
              "       17668.84206651,  6649.27061281, 16100.6357691 ,  7468.15349792,\n",
              "       13175.84048098,  7487.73206213, 12290.61102062,  9587.60348315,\n",
              "       27502.41843225,  7839.79991459,  9415.13156496,  8317.71945398,\n",
              "       13770.30965399, 13233.24881925, 10016.82666335,  8540.33325053,\n",
              "       13986.52100392, 19211.80986305, 12985.45610131,  9609.54810826,\n",
              "       20238.71655746,  9715.84427214,  9181.33608875,  9925.51587783,\n",
              "        9847.0543621 ,  9447.57860362,  8683.56348739, 10408.22170351,\n",
              "        8305.00985164,  5740.46537633, 10528.73520861, 10755.71638705,\n",
              "        6466.74759006,  9817.09603854, 13315.66168957, 11093.60222252,\n",
              "       12813.81981737,  6946.07051213,  6174.08839198, 10515.25555719,\n",
              "        6639.51224202, 12803.83609449, 13310.8432762 ,  5054.26833605,\n",
              "        9129.96572161,  8128.65982073, 13171.34285826, 15626.10048911,\n",
              "        6675.59884195, 13498.93669995,  8049.91071056,  7311.6865192 ,\n",
              "        8324.85884478,  7846.88512384,  6374.6921537 , 26351.37007746,\n",
              "       22686.73550051, 10217.75962624,  7217.39096358, 19192.10493056,\n",
              "        8011.8278894 , 13519.16511719, 10720.33125759, 10638.63434683])"
            ]
          },
          "metadata": {},
          "execution_count": 38
        }
      ]
    },
    {
      "cell_type": "code",
      "source": [
        "# Metrics for Base Model\n",
        "print(\"Model 1 Metrics:\")\n",
        "print(\"MAE:\", mean_absolute_error(y_test, y_pred))\n",
        "print(\"MSE:\", mean_squared_error(y_test, y_pred))\n",
        "print(\"R² Score:\", r2_score(y_test, y_pred))"
      ],
      "metadata": {
        "colab": {
          "base_uri": "https://localhost:8080/"
        },
        "id": "bAbcax1osoZG",
        "outputId": "9f1a386e-6a12-4389-c820-a2c1eab7d3a2"
      },
      "execution_count": 39,
      "outputs": [
        {
          "output_type": "stream",
          "name": "stdout",
          "text": [
            "Model 1 Metrics:\n",
            "MAE: 990.887273919397\n",
            "MSE: 2203043.8231437043\n",
            "R² Score: 0.8348888040611081\n"
          ]
        }
      ]
    },
    {
      "cell_type": "code",
      "source": [
        "print(X_train_sm.dtypes)\n"
      ],
      "metadata": {
        "colab": {
          "base_uri": "https://localhost:8080/"
        },
        "id": "BCm1pbebsrq-",
        "outputId": "4b289047-c23a-4cdf-b5f6-ef5444dde9fb"
      },
      "execution_count": 43,
      "outputs": [
        {
          "output_type": "stream",
          "name": "stdout",
          "text": [
            "Age_08_04           float64\n",
            "KM                  float64\n",
            "HP                  float64\n",
            "Automatic             int64\n",
            "cc                  float64\n",
            "Doors               float64\n",
            "Cylinders             int64\n",
            "Gears                 int64\n",
            "Weight              float64\n",
            "Fuel_Type_CNG          bool\n",
            "Fuel_Type_Diesel       bool\n",
            "Fuel_Type_Petrol       bool\n",
            "dtype: object\n"
          ]
        }
      ]
    },
    {
      "cell_type": "code",
      "source": [
        "# Ensure all columns are numeric\n",
        "X_train_sm = X_train_sm.apply(pd.to_numeric, errors='coerce')\n",
        "\n",
        "# Print to see if any columns are still problematic\n",
        "print(X_train_sm.dtypes)\n"
      ],
      "metadata": {
        "colab": {
          "base_uri": "https://localhost:8080/"
        },
        "id": "yFAm0ofovocO",
        "outputId": "ef6b1db2-22bc-4ae9-ed6b-f7a6175d3206"
      },
      "execution_count": 44,
      "outputs": [
        {
          "output_type": "stream",
          "name": "stdout",
          "text": [
            "Age_08_04           float64\n",
            "KM                  float64\n",
            "HP                  float64\n",
            "Automatic             int64\n",
            "cc                  float64\n",
            "Doors               float64\n",
            "Cylinders             int64\n",
            "Gears                 int64\n",
            "Weight              float64\n",
            "Fuel_Type_CNG          bool\n",
            "Fuel_Type_Diesel       bool\n",
            "Fuel_Type_Petrol       bool\n",
            "dtype: object\n"
          ]
        }
      ]
    },
    {
      "cell_type": "markdown",
      "source": [
        "# Statsmodels OLS"
      ],
      "metadata": {
        "id": "8wS6t0L6yJIZ"
      }
    },
    {
      "cell_type": "code",
      "source": [
        "import numpy as np\n",
        "import pandas as pd\n",
        "import statsmodels.api as sm # make sure you import the library\n",
        "\n",
        "# Convert to numpy arrays with explicit dtype\n",
        "X_train_sm_np = np.asarray(X_train_sm, dtype=float)\n",
        "y_train_np = np.asarray(y_train, dtype=float)\n",
        "\n",
        "# Fit the model\n",
        "model2 = sm.OLS(y_train_np, X_train_sm_np).fit()\n",
        "\n",
        "# Print summary\n",
        "print(model2.summary())"
      ],
      "metadata": {
        "colab": {
          "base_uri": "https://localhost:8080/"
        },
        "id": "nJimNJ6yvss8",
        "outputId": "206d756d-5357-4f15-a0aa-270a29b4c56e"
      },
      "execution_count": 46,
      "outputs": [
        {
          "output_type": "stream",
          "name": "stdout",
          "text": [
            "                            OLS Regression Results                            \n",
            "==============================================================================\n",
            "Dep. Variable:                      y   R-squared:                       0.870\n",
            "Model:                            OLS   Adj. R-squared:                  0.869\n",
            "Method:                 Least Squares   F-statistic:                     762.7\n",
            "Date:                Fri, 20 Sep 2024   Prob (F-statistic):               0.00\n",
            "Time:                        14:04:08   Log-Likelihood:                -9863.2\n",
            "No. Observations:                1148   AIC:                         1.975e+04\n",
            "Df Residuals:                    1137   BIC:                         1.980e+04\n",
            "Df Model:                          10                                         \n",
            "Covariance Type:            nonrobust                                         \n",
            "==============================================================================\n",
            "                 coef    std err          t      P>|t|      [0.025      0.975]\n",
            "------------------------------------------------------------------------------\n",
            "x1         -2246.6624     53.672    -41.859      0.000   -2351.969   -2141.355\n",
            "x2          -608.5706     55.061    -11.053      0.000    -716.603    -500.538\n",
            "x3           210.2533     60.314      3.486      0.001      91.915     328.592\n",
            "x4           148.8309    177.194      0.840      0.401    -198.833     496.495\n",
            "x5           -12.8851     38.429     -0.335      0.737     -88.285      62.515\n",
            "x6           -57.4368     42.808     -1.342      0.180    -141.429      26.556\n",
            "const       1763.4257    253.635      6.953      0.000    1265.781    2261.070\n",
            "x7           551.6007    206.048      2.677      0.008     147.324     955.877\n",
            "x8          1362.1387     78.759     17.295      0.000    1207.610    1516.667\n",
            "x9          -287.1346    226.750     -1.266      0.206    -732.030     157.761\n",
            "x10         -355.6833    196.698     -1.808      0.071    -741.615      30.249\n",
            "x11         1083.6743    156.480      6.925      0.000     776.652    1390.697\n",
            "==============================================================================\n",
            "Omnibus:                      212.816   Durbin-Watson:                   2.035\n",
            "Prob(Omnibus):                  0.000   Jarque-Bera (JB):             2408.915\n",
            "Skew:                          -0.492   Prob(JB):                         0.00\n",
            "Kurtosis:                      10.028   Cond. No.                     3.04e+16\n",
            "==============================================================================\n",
            "\n",
            "Notes:\n",
            "[1] Standard Errors assume that the covariance matrix of the errors is correctly specified.\n",
            "[2] The smallest eigenvalue is 5.24e-29. This might indicate that there are\n",
            "strong multicollinearity problems or that the design matrix is singular.\n"
          ]
        }
      ]
    },
    {
      "cell_type": "code",
      "source": [
        "# Check individual columns\n",
        "for col in X_train_sm.columns:\n",
        "    print(f\"{col}: {X_train_sm[col].dtype}, unique values: {X_train_sm[col].unique()[:5]}\")\n"
      ],
      "metadata": {
        "colab": {
          "base_uri": "https://localhost:8080/"
        },
        "id": "Egnu-iRRwCQo",
        "outputId": "81d7fe10-cdaf-4d4a-c2ec-730645c61769"
      },
      "execution_count": 48,
      "outputs": [
        {
          "output_type": "stream",
          "name": "stdout",
          "text": [
            "Age_08_04: float64, unique values: [ 0.32553964  0.64823286 -0.85766886  1.02470829 -1.82574853]\n",
            "KM: float64, unique values: [-0.24639704 -0.18577302 -0.79694746  0.88873646 -0.88907037]\n",
            "HP: float64, unique values: [-1.03513832  0.5674405  -0.30062303 -2.17029831 -0.76804185]\n",
            "Automatic: int64, unique values: [0 1]\n",
            "cc: float64, unique values: [-0.65259409  0.05455451 -0.41687789  0.76170312  0.99741932]\n",
            "Doors: float64, unique values: [ 1.014941   -0.03509882 -1.08513865 -2.13517847]\n",
            "Cylinders: int64, unique values: [4]\n",
            "Gears: int64, unique values: [5 6 4 3]\n",
            "Weight: float64, unique values: [-0.71185149  0.14329134 -0.0467404   0.52335482  1.28348178]\n",
            "Fuel_Type_CNG: bool, unique values: [False  True]\n",
            "Fuel_Type_Diesel: bool, unique values: [False  True]\n",
            "Fuel_Type_Petrol: bool, unique values: [ True False]\n"
          ]
        }
      ]
    },
    {
      "cell_type": "markdown",
      "source": [
        "# PolynomialFeatures"
      ],
      "metadata": {
        "id": "8wvDCSpZyNhR"
      }
    },
    {
      "cell_type": "code",
      "source": [
        "# Polynomial Features Model\n",
        "\n",
        "from sklearn.preprocessing import PolynomialFeatures\n",
        "\n",
        "poly = PolynomialFeatures(degree=2)\n",
        "X_poly_train = poly.fit_transform(X_train)\n",
        "model3 = LinearRegression()\n",
        "model3.fit(X_poly_train, y_train)\n"
      ],
      "metadata": {
        "colab": {
          "base_uri": "https://localhost:8080/",
          "height": 74
        },
        "id": "mcsD_mwxwLWO",
        "outputId": "e0895a0d-7057-4c76-aa61-f11b0aaa8873"
      },
      "execution_count": 49,
      "outputs": [
        {
          "output_type": "execute_result",
          "data": {
            "text/plain": [
              "LinearRegression()"
            ],
            "text/html": [
              "<style>#sk-container-id-3 {color: black;}#sk-container-id-3 pre{padding: 0;}#sk-container-id-3 div.sk-toggleable {background-color: white;}#sk-container-id-3 label.sk-toggleable__label {cursor: pointer;display: block;width: 100%;margin-bottom: 0;padding: 0.3em;box-sizing: border-box;text-align: center;}#sk-container-id-3 label.sk-toggleable__label-arrow:before {content: \"▸\";float: left;margin-right: 0.25em;color: #696969;}#sk-container-id-3 label.sk-toggleable__label-arrow:hover:before {color: black;}#sk-container-id-3 div.sk-estimator:hover label.sk-toggleable__label-arrow:before {color: black;}#sk-container-id-3 div.sk-toggleable__content {max-height: 0;max-width: 0;overflow: hidden;text-align: left;background-color: #f0f8ff;}#sk-container-id-3 div.sk-toggleable__content pre {margin: 0.2em;color: black;border-radius: 0.25em;background-color: #f0f8ff;}#sk-container-id-3 input.sk-toggleable__control:checked~div.sk-toggleable__content {max-height: 200px;max-width: 100%;overflow: auto;}#sk-container-id-3 input.sk-toggleable__control:checked~label.sk-toggleable__label-arrow:before {content: \"▾\";}#sk-container-id-3 div.sk-estimator input.sk-toggleable__control:checked~label.sk-toggleable__label {background-color: #d4ebff;}#sk-container-id-3 div.sk-label input.sk-toggleable__control:checked~label.sk-toggleable__label {background-color: #d4ebff;}#sk-container-id-3 input.sk-hidden--visually {border: 0;clip: rect(1px 1px 1px 1px);clip: rect(1px, 1px, 1px, 1px);height: 1px;margin: -1px;overflow: hidden;padding: 0;position: absolute;width: 1px;}#sk-container-id-3 div.sk-estimator {font-family: monospace;background-color: #f0f8ff;border: 1px dotted black;border-radius: 0.25em;box-sizing: border-box;margin-bottom: 0.5em;}#sk-container-id-3 div.sk-estimator:hover {background-color: #d4ebff;}#sk-container-id-3 div.sk-parallel-item::after {content: \"\";width: 100%;border-bottom: 1px solid gray;flex-grow: 1;}#sk-container-id-3 div.sk-label:hover label.sk-toggleable__label {background-color: #d4ebff;}#sk-container-id-3 div.sk-serial::before {content: \"\";position: absolute;border-left: 1px solid gray;box-sizing: border-box;top: 0;bottom: 0;left: 50%;z-index: 0;}#sk-container-id-3 div.sk-serial {display: flex;flex-direction: column;align-items: center;background-color: white;padding-right: 0.2em;padding-left: 0.2em;position: relative;}#sk-container-id-3 div.sk-item {position: relative;z-index: 1;}#sk-container-id-3 div.sk-parallel {display: flex;align-items: stretch;justify-content: center;background-color: white;position: relative;}#sk-container-id-3 div.sk-item::before, #sk-container-id-3 div.sk-parallel-item::before {content: \"\";position: absolute;border-left: 1px solid gray;box-sizing: border-box;top: 0;bottom: 0;left: 50%;z-index: -1;}#sk-container-id-3 div.sk-parallel-item {display: flex;flex-direction: column;z-index: 1;position: relative;background-color: white;}#sk-container-id-3 div.sk-parallel-item:first-child::after {align-self: flex-end;width: 50%;}#sk-container-id-3 div.sk-parallel-item:last-child::after {align-self: flex-start;width: 50%;}#sk-container-id-3 div.sk-parallel-item:only-child::after {width: 0;}#sk-container-id-3 div.sk-dashed-wrapped {border: 1px dashed gray;margin: 0 0.4em 0.5em 0.4em;box-sizing: border-box;padding-bottom: 0.4em;background-color: white;}#sk-container-id-3 div.sk-label label {font-family: monospace;font-weight: bold;display: inline-block;line-height: 1.2em;}#sk-container-id-3 div.sk-label-container {text-align: center;}#sk-container-id-3 div.sk-container {/* jupyter's `normalize.less` sets `[hidden] { display: none; }` but bootstrap.min.css set `[hidden] { display: none !important; }` so we also need the `!important` here to be able to override the default hidden behavior on the sphinx rendered scikit-learn.org. See: https://github.com/scikit-learn/scikit-learn/issues/21755 */display: inline-block !important;position: relative;}#sk-container-id-3 div.sk-text-repr-fallback {display: none;}</style><div id=\"sk-container-id-3\" class=\"sk-top-container\"><div class=\"sk-text-repr-fallback\"><pre>LinearRegression()</pre><b>In a Jupyter environment, please rerun this cell to show the HTML representation or trust the notebook. <br />On GitHub, the HTML representation is unable to render, please try loading this page with nbviewer.org.</b></div><div class=\"sk-container\" hidden><div class=\"sk-item\"><div class=\"sk-estimator sk-toggleable\"><input class=\"sk-toggleable__control sk-hidden--visually\" id=\"sk-estimator-id-3\" type=\"checkbox\" checked><label for=\"sk-estimator-id-3\" class=\"sk-toggleable__label sk-toggleable__label-arrow\">LinearRegression</label><div class=\"sk-toggleable__content\"><pre>LinearRegression()</pre></div></div></div></div></div>"
            ]
          },
          "metadata": {},
          "execution_count": 49
        }
      ]
    },
    {
      "cell_type": "code",
      "source": [
        "X_poly_test = poly.transform(X_test)\n",
        "y_poly_pred = model3.predict(X_poly_test)\n"
      ],
      "metadata": {
        "id": "C401Ei43wUEM"
      },
      "execution_count": 54,
      "outputs": []
    },
    {
      "cell_type": "code",
      "source": [
        "# Metrics for Polynomial Features Model\n",
        "print(\"\\nModel 3 Metrics:\")\n",
        "print(\"MAE:\", mean_absolute_error(y_test, y_poly_pred))\n",
        "print(\"MSE:\", mean_squared_error(y_test, y_poly_pred))\n",
        "print(\"R² Score:\", r2_score(y_test, y_poly_pred))\n"
      ],
      "metadata": {
        "colab": {
          "base_uri": "https://localhost:8080/"
        },
        "id": "Gf3AL2ldxAt6",
        "outputId": "77a9a301-90be-4d2e-dd94-e494d350958e"
      },
      "execution_count": 55,
      "outputs": [
        {
          "output_type": "stream",
          "name": "stdout",
          "text": [
            "\n",
            "Model 3 Metrics:\n",
            "MAE: 908.7901871177339\n",
            "MSE: 3198379.343319666\n",
            "R² Score: 0.7602915416869986\n"
          ]
        }
      ]
    },
    {
      "cell_type": "markdown",
      "source": [
        "# Lasso Regression"
      ],
      "metadata": {
        "id": "s6vJXeNkyad0"
      }
    },
    {
      "cell_type": "code",
      "source": [
        "# Lasso Regression\n",
        "lasso = Lasso(alpha=0.01)\n",
        "lasso.fit(X_train, y_train)"
      ],
      "metadata": {
        "colab": {
          "base_uri": "https://localhost:8080/",
          "height": 74
        },
        "id": "HXUdpRESxCld",
        "outputId": "7da38a76-7223-4edc-d8cb-7d4687472dd3"
      },
      "execution_count": 56,
      "outputs": [
        {
          "output_type": "execute_result",
          "data": {
            "text/plain": [
              "Lasso(alpha=0.01)"
            ],
            "text/html": [
              "<style>#sk-container-id-4 {color: black;}#sk-container-id-4 pre{padding: 0;}#sk-container-id-4 div.sk-toggleable {background-color: white;}#sk-container-id-4 label.sk-toggleable__label {cursor: pointer;display: block;width: 100%;margin-bottom: 0;padding: 0.3em;box-sizing: border-box;text-align: center;}#sk-container-id-4 label.sk-toggleable__label-arrow:before {content: \"▸\";float: left;margin-right: 0.25em;color: #696969;}#sk-container-id-4 label.sk-toggleable__label-arrow:hover:before {color: black;}#sk-container-id-4 div.sk-estimator:hover label.sk-toggleable__label-arrow:before {color: black;}#sk-container-id-4 div.sk-toggleable__content {max-height: 0;max-width: 0;overflow: hidden;text-align: left;background-color: #f0f8ff;}#sk-container-id-4 div.sk-toggleable__content pre {margin: 0.2em;color: black;border-radius: 0.25em;background-color: #f0f8ff;}#sk-container-id-4 input.sk-toggleable__control:checked~div.sk-toggleable__content {max-height: 200px;max-width: 100%;overflow: auto;}#sk-container-id-4 input.sk-toggleable__control:checked~label.sk-toggleable__label-arrow:before {content: \"▾\";}#sk-container-id-4 div.sk-estimator input.sk-toggleable__control:checked~label.sk-toggleable__label {background-color: #d4ebff;}#sk-container-id-4 div.sk-label input.sk-toggleable__control:checked~label.sk-toggleable__label {background-color: #d4ebff;}#sk-container-id-4 input.sk-hidden--visually {border: 0;clip: rect(1px 1px 1px 1px);clip: rect(1px, 1px, 1px, 1px);height: 1px;margin: -1px;overflow: hidden;padding: 0;position: absolute;width: 1px;}#sk-container-id-4 div.sk-estimator {font-family: monospace;background-color: #f0f8ff;border: 1px dotted black;border-radius: 0.25em;box-sizing: border-box;margin-bottom: 0.5em;}#sk-container-id-4 div.sk-estimator:hover {background-color: #d4ebff;}#sk-container-id-4 div.sk-parallel-item::after {content: \"\";width: 100%;border-bottom: 1px solid gray;flex-grow: 1;}#sk-container-id-4 div.sk-label:hover label.sk-toggleable__label {background-color: #d4ebff;}#sk-container-id-4 div.sk-serial::before {content: \"\";position: absolute;border-left: 1px solid gray;box-sizing: border-box;top: 0;bottom: 0;left: 50%;z-index: 0;}#sk-container-id-4 div.sk-serial {display: flex;flex-direction: column;align-items: center;background-color: white;padding-right: 0.2em;padding-left: 0.2em;position: relative;}#sk-container-id-4 div.sk-item {position: relative;z-index: 1;}#sk-container-id-4 div.sk-parallel {display: flex;align-items: stretch;justify-content: center;background-color: white;position: relative;}#sk-container-id-4 div.sk-item::before, #sk-container-id-4 div.sk-parallel-item::before {content: \"\";position: absolute;border-left: 1px solid gray;box-sizing: border-box;top: 0;bottom: 0;left: 50%;z-index: -1;}#sk-container-id-4 div.sk-parallel-item {display: flex;flex-direction: column;z-index: 1;position: relative;background-color: white;}#sk-container-id-4 div.sk-parallel-item:first-child::after {align-self: flex-end;width: 50%;}#sk-container-id-4 div.sk-parallel-item:last-child::after {align-self: flex-start;width: 50%;}#sk-container-id-4 div.sk-parallel-item:only-child::after {width: 0;}#sk-container-id-4 div.sk-dashed-wrapped {border: 1px dashed gray;margin: 0 0.4em 0.5em 0.4em;box-sizing: border-box;padding-bottom: 0.4em;background-color: white;}#sk-container-id-4 div.sk-label label {font-family: monospace;font-weight: bold;display: inline-block;line-height: 1.2em;}#sk-container-id-4 div.sk-label-container {text-align: center;}#sk-container-id-4 div.sk-container {/* jupyter's `normalize.less` sets `[hidden] { display: none; }` but bootstrap.min.css set `[hidden] { display: none !important; }` so we also need the `!important` here to be able to override the default hidden behavior on the sphinx rendered scikit-learn.org. See: https://github.com/scikit-learn/scikit-learn/issues/21755 */display: inline-block !important;position: relative;}#sk-container-id-4 div.sk-text-repr-fallback {display: none;}</style><div id=\"sk-container-id-4\" class=\"sk-top-container\"><div class=\"sk-text-repr-fallback\"><pre>Lasso(alpha=0.01)</pre><b>In a Jupyter environment, please rerun this cell to show the HTML representation or trust the notebook. <br />On GitHub, the HTML representation is unable to render, please try loading this page with nbviewer.org.</b></div><div class=\"sk-container\" hidden><div class=\"sk-item\"><div class=\"sk-estimator sk-toggleable\"><input class=\"sk-toggleable__control sk-hidden--visually\" id=\"sk-estimator-id-4\" type=\"checkbox\" checked><label for=\"sk-estimator-id-4\" class=\"sk-toggleable__label sk-toggleable__label-arrow\">Lasso</label><div class=\"sk-toggleable__content\"><pre>Lasso(alpha=0.01)</pre></div></div></div></div></div>"
            ]
          },
          "metadata": {},
          "execution_count": 56
        }
      ]
    },
    {
      "cell_type": "code",
      "source": [
        "lasso_pred = lasso.predict(X_test)\n",
        "lasso_pred"
      ],
      "metadata": {
        "colab": {
          "base_uri": "https://localhost:8080/"
        },
        "id": "z9KeC4xdxGrB",
        "outputId": "24f5f635-c03a-49ed-b396-a381ca3bc821"
      },
      "execution_count": 57,
      "outputs": [
        {
          "output_type": "execute_result",
          "data": {
            "text/plain": [
              "array([11137.19034241,  8974.98160448,  9283.28836987,  8951.99559204,\n",
              "       10082.34024593,  7959.33598778,  8656.46158774,  8254.90617527,\n",
              "       14063.40418708, 13099.97472673,  9551.42276777,  9325.0423014 ,\n",
              "       12919.14382789, 12925.10747217,  9793.37274479,  8305.79614604,\n",
              "       12190.04178632, 17535.42843161,  7469.09001206,  9146.78036265,\n",
              "       12638.31341501, 17804.24598108,  7903.45712505, 10386.0429418 ,\n",
              "        7580.43818627, 16058.83465953, 10033.8860433 ,  7412.36084841,\n",
              "       15766.15733179, 14440.47503886,  8163.91975297,  9609.41349465,\n",
              "        8509.90669414, 10098.72273263, 10245.65537793,  8073.59591983,\n",
              "        8759.26787827,  9965.94634811, 16471.75375863,  9624.34685167,\n",
              "        9829.95981645,  9503.4881104 ,  7888.16130948,  5698.34505412,\n",
              "        6870.25139446, 17266.08873665,  9441.3011716 , 10702.06715228,\n",
              "        8748.53812807, 13429.15908828, 12940.91243443,  6393.23299515,\n",
              "       15071.94821089, 16374.45890741,  6194.45996409,  7783.02432876,\n",
              "       10250.63469869, 10892.47834672, 16161.76115622, 18896.11835646,\n",
              "       12700.80633319,  7935.87828917,  7924.15593241, 11012.48422038,\n",
              "       13355.82744841,  8971.48220566, 12701.66606358,  7664.63578891,\n",
              "        8412.62173966, 10487.25330037, 19870.98888142, 11269.67670308,\n",
              "       12815.050031  ,  7225.57733829, 18786.48228947, 13900.19078137,\n",
              "        7665.98863241,  7704.08209811,  9852.44455201,  9046.10427411,\n",
              "       10359.41207821,  8713.59097094, 10601.51765101, 10774.24494604,\n",
              "        7384.98055914,  6363.92841688, 11491.63763698, 12990.0454844 ,\n",
              "        9578.00571566, 10755.85872217,  7422.06370106,  6831.70887087,\n",
              "       10490.00907109, 10919.12319327, 12695.10405129,  9306.22602977,\n",
              "       21404.02493103,  7972.14145019, 13925.20526842,  8932.37347694,\n",
              "       10594.47190826,  9541.87260838, 10481.98650842, 16877.80405721,\n",
              "        8673.07471286,  7735.49255079, 16766.46012528,  7677.3058258 ,\n",
              "        9578.03004322,  8012.54981023, 11678.88704092, 10331.60269467,\n",
              "        9577.08416819, 13677.43523754,  9460.13846269,  8343.20915437,\n",
              "        6629.07348353, 13329.06647687, 12639.83806662, 13976.98467719,\n",
              "        8000.16928073,  7484.93252198,  8333.39065521, 15230.02180106,\n",
              "       11594.33879433,  8579.99385147, 12971.24607167,  8987.2793029 ,\n",
              "        8578.19259625, 12182.95421944, 11254.63873753, 15743.8147931 ,\n",
              "       10846.66279779,  9125.92618118,  6579.8960313 ,  9630.01347996,\n",
              "       10334.1602126 , 11501.99278304,  8263.22318796,  5310.79489562,\n",
              "       12579.68013584, 10874.17373306, 12492.48401993,  8485.42771879,\n",
              "       12215.43602395, 11181.56613084,  7315.48788916,  8636.40404886,\n",
              "        8663.89838987, 11104.51709792, 10350.73172542, 16148.757372  ,\n",
              "        8221.76842625,  8985.97451244, 11196.70255125, 10924.33090573,\n",
              "        8905.81346965, 13348.01792474,  9476.364212  , 19318.11248263,\n",
              "       11216.15107471, 15822.90121154, 15538.84350449,  7787.21220133,\n",
              "        8828.80604138, 12632.85461516,  7925.31601211, 13520.09403751,\n",
              "        7807.91659195,  7666.89156871,  8208.40376073, 12173.33718628,\n",
              "        9332.74542004, 13012.07468874, 10274.24028504,  9620.67982991,\n",
              "       16922.31047652, 10723.03190625,  9730.54651971, 10753.33551358,\n",
              "       12165.43936428, 11278.85964153, 13619.98806149,  8356.17182407,\n",
              "        9339.45549834,  7335.82361767,  6055.08663336,  8294.04413154,\n",
              "        9712.72853946, 11019.70471849,  8992.64828398,  7273.10102075,\n",
              "        6423.36501082, 11173.56639941, 10389.96652542, 11028.79427741,\n",
              "        6863.06284654,  7130.42742729,  9926.0949717 , 18336.88058826,\n",
              "        9262.47938702,  7780.9867481 ,  6919.00868811,  9049.65393267,\n",
              "       16273.13456099, 17268.79821852, 10799.44140583, 10103.95565312,\n",
              "       10682.3102145 ,  9268.85504798,  9243.39931451, 11130.13724904,\n",
              "       10086.86552478,  9972.88465676,  7078.55415012, 11636.06928753,\n",
              "        7983.85177749,  9250.71617172,  7176.39241954, 11816.20255682,\n",
              "        8506.27599698, 10440.53171719, 10285.60787638, 10408.36851731,\n",
              "       17668.79684376,  6649.28430426, 16100.63222489,  7468.18863485,\n",
              "       13175.85987006,  7487.72871572, 12290.61397163,  9587.62509505,\n",
              "       27502.30315033,  7839.82222224,  9415.13128251,  8317.7429453 ,\n",
              "       13770.32753949, 13233.24860288, 10016.85629622,  8540.36570605,\n",
              "       13986.32572377, 19211.78723297, 12985.50856633,  9609.56134086,\n",
              "       20238.69495109,  9715.85727595,  9181.37229992,  9925.53040899,\n",
              "        9847.09795078,  9447.38948161,  8683.57164952, 10408.24192894,\n",
              "        8305.04461804,  5740.43099507, 10528.74307134, 10755.73683329,\n",
              "        6466.81662244,  9817.13446355, 13315.68097045, 11093.58697542,\n",
              "       12813.84184416,  6946.10763212,  6174.09442585, 10515.28809743,\n",
              "        6639.53122682, 12803.808382  , 13310.84839846,  5054.27511437,\n",
              "        9129.66889695,  8128.66996051, 13171.35384014, 15626.10327797,\n",
              "        6675.63654762, 13498.94365783,  8049.73416949,  7311.69909005,\n",
              "        8324.90073696,  7846.90993086,  6374.69700251, 26351.07013024,\n",
              "       22686.70373714, 10217.78136412,  7217.39930449, 19192.08150701,\n",
              "        8011.87923267, 13519.17641408, 10720.38236016, 10638.66611677])"
            ]
          },
          "metadata": {},
          "execution_count": 57
        }
      ]
    },
    {
      "cell_type": "code",
      "source": [
        "# Metrics for Lasso\n",
        "print(\"\\nLasso Metrics:\")\n",
        "print(\"MAE:\", mean_absolute_error(y_test, lasso_pred))\n",
        "print(\"MSE:\", mean_squared_error(y_test, lasso_pred))\n",
        "print(\"R² Score:\", r2_score(y_test, lasso_pred))\n"
      ],
      "metadata": {
        "colab": {
          "base_uri": "https://localhost:8080/"
        },
        "id": "eAzWQqfaxRag",
        "outputId": "51353308-42e1-48d2-91e8-43b1e8da5766"
      },
      "execution_count": 59,
      "outputs": [
        {
          "output_type": "stream",
          "name": "stdout",
          "text": [
            "\n",
            "Lasso Metrics:\n",
            "MAE: 990.88663858673\n",
            "MSE: 2203025.4621511134\n",
            "R² Score: 0.8348901801596739\n"
          ]
        }
      ]
    },
    {
      "cell_type": "markdown",
      "source": [
        "# Ridge Regression"
      ],
      "metadata": {
        "id": "941K6BAVyjBX"
      }
    },
    {
      "cell_type": "code",
      "source": [
        "ridge = Ridge(alpha=1.0)\n",
        "ridge.fit(X_train, y_train)\n",
        "ridge_pred = ridge.predict(X_test)\n"
      ],
      "metadata": {
        "id": "TsM2pxeCxLL8"
      },
      "execution_count": 58,
      "outputs": []
    },
    {
      "cell_type": "code",
      "source": [
        "print(\"\\nRidge Metrics:\")\n",
        "print(\"MAE:\", mean_absolute_error(y_test, ridge_pred))\n",
        "print(\"MSE:\", mean_squared_error(y_test, ridge_pred))\n",
        "print(\"R² Score:\", r2_score(y_test, ridge_pred))"
      ],
      "metadata": {
        "colab": {
          "base_uri": "https://localhost:8080/"
        },
        "id": "AY-G_b9ixTRb",
        "outputId": "a479ff9a-1372-44e5-f569-eae8628dfc4c"
      },
      "execution_count": 60,
      "outputs": [
        {
          "output_type": "stream",
          "name": "stdout",
          "text": [
            "\n",
            "Ridge Metrics:\n",
            "MAE: 990.8366695125665\n",
            "MSE: 2196341.442072234\n",
            "R² Score: 0.8353911264129029\n"
          ]
        }
      ]
    },
    {
      "cell_type": "code",
      "source": [
        "\n",
        "#  metrics for all models\n",
        "print(\"Model 1 Metrics (Linear Regression):\")\n",
        "print(\"MAE:\", mean_absolute_error(y_test, y_pred))\n",
        "print(\"MSE:\", mean_squared_error(y_test, y_pred))\n",
        "print(\"R² Score:\", r2_score(y_test, y_pred))\n",
        "\n",
        "print(\"\\nModel 2 Metrics (Statsmodels OLS):\")\n",
        "y_pred_model2 = model2.predict(X_train_sm_np)\n",
        "print(\"MAE:\", mean_absolute_error(y_train_np, y_pred_model2))\n",
        "print(\"MSE:\", mean_squared_error(y_train_np, y_pred_model2))\n",
        "print(\"R² Score:\", r2_score(y_train_np, y_pred_model2))\n",
        "\n",
        "print(\"\\nModel 3 Metrics (Polynomial Features):\")\n",
        "print(\"MAE:\", mean_absolute_error(y_test, y_poly_pred))\n",
        "print(\"MSE:\", mean_squared_error(y_test, y_poly_pred))\n",
        "print(\"R² Score:\", r2_score(y_test, y_poly_pred))\n",
        "\n",
        "print(\"\\nLasso Metrics:\")\n",
        "print(\"MAE:\", mean_absolute_error(y_test, lasso_pred))\n",
        "print(\"MSE:\", mean_squared_error(y_test, lasso_pred))\n",
        "print(\"R² Score:\", r2_score(y_test, lasso_pred))\n",
        "\n",
        "print(\"\\nRidge Metrics:\")\n",
        "print(\"MAE:\", mean_absolute_error(y_test, ridge_pred))\n",
        "print(\"MSE:\", mean_squared_error(y_test, ridge_pred))\n",
        "print(\"R² Score:\", r2_score(y_test, ridge_pred))\n"
      ],
      "metadata": {
        "colab": {
          "base_uri": "https://localhost:8080/"
        },
        "id": "kV3vca3ixWBo",
        "outputId": "375dfd3c-4480-4a42-a383-a71af2d95d6f"
      },
      "execution_count": 61,
      "outputs": [
        {
          "output_type": "stream",
          "name": "stdout",
          "text": [
            "Model 1 Metrics (Linear Regression):\n",
            "MAE: 990.887273919397\n",
            "MSE: 2203043.8231437043\n",
            "R² Score: 0.8348888040611081\n",
            "\n",
            "Model 2 Metrics (Statsmodels OLS):\n",
            "MAE: 956.6895753326808\n",
            "MSE: 1698694.1713486246\n",
            "R² Score: 0.8702643169608926\n",
            "\n",
            "Model 3 Metrics (Polynomial Features):\n",
            "MAE: 908.7901871177339\n",
            "MSE: 3198379.343319666\n",
            "R² Score: 0.7602915416869986\n",
            "\n",
            "Lasso Metrics:\n",
            "MAE: 990.88663858673\n",
            "MSE: 2203025.4621511134\n",
            "R² Score: 0.8348901801596739\n",
            "\n",
            "Ridge Metrics:\n",
            "MAE: 990.8366695125665\n",
            "MSE: 2196341.442072234\n",
            "R² Score: 0.8353911264129029\n"
          ]
        }
      ]
    },
    {
      "cell_type": "markdown",
      "source": [
        "# visualization of all metrics"
      ],
      "metadata": {
        "id": "sRt5ivrvyyVs"
      }
    },
    {
      "cell_type": "code",
      "source": [
        "# visualize the metrics for all models\n",
        "\n",
        "import matplotlib.pyplot as plt\n",
        "\n",
        "# Data for the bar chart\n",
        "models = ['Linear Regression', 'Statsmodels OLS', 'Polynomial Features', 'Lasso', 'Ridge']\n",
        "mae_scores = [mean_absolute_error(y_test, y_pred),\n",
        "              mean_absolute_error(y_train_np, y_pred_model2),\n",
        "              mean_absolute_error(y_test, y_poly_pred),\n",
        "              mean_absolute_error(y_test, lasso_pred),\n",
        "              mean_absolute_error(y_test, ridge_pred)]\n",
        "\n",
        "mse_scores = [mean_squared_error(y_test, y_pred),\n",
        "              mean_squared_error(y_train_np, y_pred_model2),\n",
        "              mean_squared_error(y_test, y_poly_pred),\n",
        "              mean_squared_error(y_test, lasso_pred),\n",
        "              mean_squared_error(y_test, ridge_pred)]\n",
        "\n",
        "r2_scores = [r2_score(y_test, y_pred),\n",
        "             r2_score(y_train_np, y_pred_model2),\n",
        "             r2_score(y_test, y_poly_pred),\n",
        "             r2_score(y_test, lasso_pred),\n",
        "             r2_score(y_test, ridge_pred)]\n",
        "\n",
        "# Create the bar chart\n",
        "x = range(len(models))\n",
        "width = 0.2\n",
        "\n",
        "fig, ax = plt.subplots(figsize=(12, 6))\n",
        "\n",
        "rects1 = ax.bar(x, mae_scores, width, label='MAE')\n",
        "rects2 = ax.bar([i + width for i in x], mse_scores, width, label='MSE')\n",
        "rects3 = ax.bar([i + 2 * width for i in x], r2_scores, width, label='R² Score')\n",
        "\n",
        "ax.set_xlabel(\"Models\")\n",
        "ax.set_ylabel(\"Metrics\")\n",
        "ax.set_title(\"Model Performance Metrics\")\n",
        "ax.set_xticks([i + width for i in x])\n",
        "ax.set_xticklabels(models)\n",
        "ax.legend()\n",
        "\n",
        "plt.show()\n",
        "\n",
        "# Line plot for MAE, MSE, and R² scores\n",
        "plt.figure(figsize=(10, 6))\n",
        "plt.plot(models, mae_scores, marker='o', label='MAE')\n",
        "plt.plot(models, mse_scores, marker='o', label='MSE')\n",
        "plt.plot(models, r2_scores, marker='o', label='R² Score')\n",
        "plt.xlabel('Models')\n",
        "plt.ylabel('Metric Value')\n",
        "plt.title('Model Performance Metrics (Line Plot)')\n",
        "plt.legend()\n",
        "plt.grid(True)\n",
        "plt.show()\n",
        "\n"
      ],
      "metadata": {
        "colab": {
          "base_uri": "https://localhost:8080/",
          "height": 1000
        },
        "id": "8lLL7lhjxiXi",
        "outputId": "bd60f504-e5f1-435f-ae91-f240074fc26d"
      },
      "execution_count": 69,
      "outputs": [
        {
          "output_type": "display_data",
          "data": {
            "text/plain": [
              "<Figure size 1200x600 with 1 Axes>"
            ],
            "image/png": "[encoded data removed]"
          },
          "metadata": {}
        },
        {
          "output_type": "display_data",
          "data": {
            "text/plain": [
              "<Figure size 1000x600 with 1 Axes>"
            ],
            "image/png": "[encoded data removed]"
          },
          "metadata": {}
        }
      ]
    },
    {
      "cell_type": "code",
      "source": [],
      "metadata": {
        "id": "bF6rKM2o0L_B"
      },
      "execution_count": null,
      "outputs": []
    },
    {
      "cell_type": "markdown",
      "source": [
        "\n",
        "# Conclusion\n",
        "\n",
        "\"\"\"\n",
        "Based on the analysis of the Toyota Corolla dataset using multiple linear regression, we observed the following:\n",
        "\n",
        "1. **Model Performance:** The Polynomial Features model demonstrates the highest R² score, suggesting the best fit among the models evaluated. However, its performance could be sensitive to overfitting, especially with higher polynomial degrees. The Linear Regression and Statsmodels OLS also exhibit decent predictive capabilities, especially in terms of their simplicity and interpretability. The Lasso and Ridge regression models help prevent overfitting.\n",
        "\n",
        "2. **Feature Importance:** Analysis of coefficients could be implemented to understand which features strongly influence the price.\n",
        "\n",
        "\n",
        "3. **Model Choice:** The optimal model choice depends on the desired balance between accuracy and complexity.  For maximum prediction accuracy, the Polynomial Features model might be considered, but careful regularization is recommended to prevent overfitting. If interpretability and simplicity are more important, the Linear Regression model would be a suitable option. Lasso and Ridge regularization method helps us to avoid overfitting.\n",
        "\n",
        "\n",
        "4. **Further Considerations:** This analysis can be further improved by investigating potential interactions between features, exploring other forms of transformations, or incorporating more advanced machine learning models.\n",
        "\n",
        "In conclusion, the multiple linear regression analysis shows that we can create a model to predict the price of Toyota corolla with a high level of accuracy. The best model depends on the needs of the task, specifically the tradeoff between accuracy, complexity, and interpretability.\n",
        "\n",
        "\"\"\"\n"
      ],
      "metadata": {
        "id": "_BM8gmEt0Xo9"
      }
    }
  ]
}